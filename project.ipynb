{
 "cells": [
  {
   "cell_type": "markdown",
   "metadata": {},
   "source": [
    "Objective:\n",
    "- Predict the salary of NFL players\n",
    "\n",
    "Notable Oversights:\n",
    "- Lack of historical data"
   ]
  },
  {
   "cell_type": "code",
   "execution_count": 2634,
   "metadata": {},
   "outputs": [],
   "source": [
    "from bs4 import BeautifulSoup as bs\n",
    "import matplotlib.pyplot as plt\n",
    "import os\n",
    "import pandas as pd\n",
    "import requests\n",
    "import seaborn as sns\n",
    "\n",
    "from sklearn.preprocessing import LabelEncoder\n",
    "from sklearn.model_selection import train_test_split\n",
    "from sklearn.metrics import accuracy_score, precision_score, recall_score, f1_score\n",
    "from sklearn.metrics import mean_absolute_error, mean_squared_error, r2_score\n",
    "from sklearn.ensemble import RandomForestRegressor\n",
    "from sklearn.compose import ColumnTransformer\n",
    "from sklearn.preprocessing import StandardScaler\n",
    "from sklearn.linear_model import LinearRegression\n",
    "from imblearn.over_sampling import RandomOverSampler\n",
    "from imblearn.under_sampling import RandomUnderSampler\n",
    "\n",
    "\n",
    "pd.set_option('display.max_columns', 500)\n",
    "pd.set_option('display.width', 1000)\n",
    "pd.set_option('display.float_format', '{:.2f}'.format)"
   ]
  },
  {
   "cell_type": "markdown",
   "metadata": {},
   "source": [
    "Step 1: Gather player details data from sportsdata.io\n",
    "- This website requires an API key which can be obtained by making a free account. \n",
    "- In their website, you can choose which database you want to access"
   ]
  },
  {
   "cell_type": "code",
   "execution_count": 2635,
   "metadata": {},
   "outputs": [],
   "source": [
    "# # TODO: hide API key\n",
    "API_KEY = '991b8171dd5b458ab8b0c839006b880c' \n",
    "SPORTSDATA_URL = 'https://api.sportsdata.io/v3/nfl/scores/json/Players?key={}'.format(API_KEY)\n",
    "\n",
    "if not os.path.exists('nfl_data.csv'):\n",
    "    print('Requesting NFL players physical data...')\n",
    "    response = requests.get(SPORTSDATA_URL)\n",
    "    if response.status_code == 200:\n",
    "        data = response.json()\n",
    "        df_nfl = pd.DataFrame.from_dict(data)\n",
    "        df_nfl.to_csv('nfl_data.csv', index=False)\n",
    "    else:\n",
    "       print(', response.status_code, response.reason')\n",
    "else:\n",
    "    df_nfl = pd.read_csv('nfl_data.csv')"
   ]
  },
  {
   "cell_type": "markdown",
   "metadata": {},
   "source": [
    "View available columns and remove unnecessary columns"
   ]
  },
  {
   "cell_type": "code",
   "execution_count": 2636,
   "metadata": {},
   "outputs": [
    {
     "data": {
      "text/html": [
       "<div>\n",
       "<style scoped>\n",
       "    .dataframe tbody tr th:only-of-type {\n",
       "        vertical-align: middle;\n",
       "    }\n",
       "\n",
       "    .dataframe tbody tr th {\n",
       "        vertical-align: top;\n",
       "    }\n",
       "\n",
       "    .dataframe thead th {\n",
       "        text-align: right;\n",
       "    }\n",
       "</style>\n",
       "<table border=\"1\" class=\"dataframe\">\n",
       "  <thead>\n",
       "    <tr style=\"text-align: right;\">\n",
       "      <th></th>\n",
       "      <th>PlayerID</th>\n",
       "      <th>Team</th>\n",
       "      <th>Number</th>\n",
       "      <th>FirstName</th>\n",
       "      <th>LastName</th>\n",
       "      <th>Position</th>\n",
       "      <th>Status</th>\n",
       "      <th>Height</th>\n",
       "      <th>Weight</th>\n",
       "      <th>BirthDate</th>\n",
       "      <th>College</th>\n",
       "      <th>Experience</th>\n",
       "      <th>FantasyPosition</th>\n",
       "      <th>Active</th>\n",
       "      <th>PositionCategory</th>\n",
       "      <th>Name</th>\n",
       "      <th>Age</th>\n",
       "      <th>ExperienceString</th>\n",
       "      <th>BirthDateString</th>\n",
       "      <th>PhotoUrl</th>\n",
       "      <th>ByeWeek</th>\n",
       "      <th>UpcomingGameOpponent</th>\n",
       "      <th>UpcomingGameWeek</th>\n",
       "      <th>ShortName</th>\n",
       "      <th>AverageDraftPosition</th>\n",
       "      <th>DepthPositionCategory</th>\n",
       "      <th>DepthPosition</th>\n",
       "      <th>DepthOrder</th>\n",
       "      <th>DepthDisplayOrder</th>\n",
       "      <th>CurrentTeam</th>\n",
       "      <th>CollegeDraftTeam</th>\n",
       "      <th>CollegeDraftYear</th>\n",
       "      <th>CollegeDraftRound</th>\n",
       "      <th>CollegeDraftPick</th>\n",
       "      <th>IsUndraftedFreeAgent</th>\n",
       "      <th>HeightFeet</th>\n",
       "      <th>HeightInches</th>\n",
       "      <th>UpcomingOpponentRank</th>\n",
       "      <th>UpcomingOpponentPositionRank</th>\n",
       "      <th>CurrentStatus</th>\n",
       "      <th>UpcomingSalary</th>\n",
       "      <th>FantasyAlarmPlayerID</th>\n",
       "      <th>SportRadarPlayerID</th>\n",
       "      <th>RotoworldPlayerID</th>\n",
       "      <th>RotoWirePlayerID</th>\n",
       "      <th>StatsPlayerID</th>\n",
       "      <th>SportsDirectPlayerID</th>\n",
       "      <th>XmlTeamPlayerID</th>\n",
       "      <th>FanDuelPlayerID</th>\n",
       "      <th>DraftKingsPlayerID</th>\n",
       "      <th>YahooPlayerID</th>\n",
       "      <th>InjuryStatus</th>\n",
       "      <th>InjuryBodyPart</th>\n",
       "      <th>InjuryStartDate</th>\n",
       "      <th>InjuryNotes</th>\n",
       "      <th>FanDuelName</th>\n",
       "      <th>DraftKingsName</th>\n",
       "      <th>YahooName</th>\n",
       "      <th>FantasyPositionDepthOrder</th>\n",
       "      <th>InjuryPractice</th>\n",
       "      <th>InjuryPracticeDescription</th>\n",
       "      <th>DeclaredInactive</th>\n",
       "      <th>UpcomingFanDuelSalary</th>\n",
       "      <th>UpcomingDraftKingsSalary</th>\n",
       "      <th>UpcomingYahooSalary</th>\n",
       "      <th>TeamID</th>\n",
       "      <th>GlobalTeamID</th>\n",
       "      <th>FantasyDraftPlayerID</th>\n",
       "      <th>FantasyDraftName</th>\n",
       "      <th>UsaTodayPlayerID</th>\n",
       "      <th>UsaTodayHeadshotUrl</th>\n",
       "      <th>UsaTodayHeadshotNoBackgroundUrl</th>\n",
       "      <th>UsaTodayHeadshotUpdated</th>\n",
       "      <th>UsaTodayHeadshotNoBackgroundUpdated</th>\n",
       "    </tr>\n",
       "  </thead>\n",
       "  <tbody>\n",
       "    <tr>\n",
       "      <th>0</th>\n",
       "      <td>430</td>\n",
       "      <td>NaN</td>\n",
       "      <td>NaN</td>\n",
       "      <td>Sam</td>\n",
       "      <td>Koch</td>\n",
       "      <td>P</td>\n",
       "      <td>Inactive</td>\n",
       "      <td>6'1\"</td>\n",
       "      <td>222</td>\n",
       "      <td>1982-08-13T00:00:00</td>\n",
       "      <td>Nebraska</td>\n",
       "      <td>12</td>\n",
       "      <td>P</td>\n",
       "      <td>False</td>\n",
       "      <td>ST</td>\n",
       "      <td>Sam Koch</td>\n",
       "      <td>41.00</td>\n",
       "      <td>17th Season</td>\n",
       "      <td>August 13, 1982</td>\n",
       "      <td>https://s3-us-west-2.amazonaws.com/static.fant...</td>\n",
       "      <td>NaN</td>\n",
       "      <td>TEN</td>\n",
       "      <td>0</td>\n",
       "      <td>S.Koch</td>\n",
       "      <td>NaN</td>\n",
       "      <td>Scrambled</td>\n",
       "      <td>Scrambled</td>\n",
       "      <td>NaN</td>\n",
       "      <td>NaN</td>\n",
       "      <td>NaN</td>\n",
       "      <td>BAL</td>\n",
       "      <td>2006.00</td>\n",
       "      <td>3.00</td>\n",
       "      <td>138.00</td>\n",
       "      <td>False</td>\n",
       "      <td>6</td>\n",
       "      <td>1</td>\n",
       "      <td>7</td>\n",
       "      <td>21.00</td>\n",
       "      <td>Scrambled</td>\n",
       "      <td>NaN</td>\n",
       "      <td>302805.00</td>\n",
       "      <td>544e4159-3da3-47ad-866c-bf48d7634f25</td>\n",
       "      <td>NaN</td>\n",
       "      <td>7073.00</td>\n",
       "      <td>214953.00</td>\n",
       "      <td>11211.00</td>\n",
       "      <td>8642.00</td>\n",
       "      <td>NaN</td>\n",
       "      <td>NaN</td>\n",
       "      <td>7952.00</td>\n",
       "      <td>Scrambled</td>\n",
       "      <td>Scrambled</td>\n",
       "      <td>NaN</td>\n",
       "      <td>Scrambled</td>\n",
       "      <td>NaN</td>\n",
       "      <td>NaN</td>\n",
       "      <td>NaN</td>\n",
       "      <td>NaN</td>\n",
       "      <td>Scrambled</td>\n",
       "      <td>Scrambled</td>\n",
       "      <td>False</td>\n",
       "      <td>NaN</td>\n",
       "      <td>NaN</td>\n",
       "      <td>NaN</td>\n",
       "      <td>NaN</td>\n",
       "      <td>0</td>\n",
       "      <td>NaN</td>\n",
       "      <td>NaN</td>\n",
       "      <td>8253808.00</td>\n",
       "      <td>http://cdn.usatsimg.com/api/download/?imageID=...</td>\n",
       "      <td>http://cdn.usatsimg.com/api/download/?imageID=...</td>\n",
       "      <td>2021-08-15T21:54:16</td>\n",
       "      <td>2021-08-18T20:29:39</td>\n",
       "    </tr>\n",
       "    <tr>\n",
       "      <th>1</th>\n",
       "      <td>549</td>\n",
       "      <td>ARI</td>\n",
       "      <td>5.00</td>\n",
       "      <td>Matt</td>\n",
       "      <td>Prater</td>\n",
       "      <td>K</td>\n",
       "      <td>Active</td>\n",
       "      <td>5'10\"</td>\n",
       "      <td>201</td>\n",
       "      <td>1984-08-10T00:00:00</td>\n",
       "      <td>Central Florida</td>\n",
       "      <td>12</td>\n",
       "      <td>K</td>\n",
       "      <td>True</td>\n",
       "      <td>ST</td>\n",
       "      <td>Matt Prater</td>\n",
       "      <td>39.00</td>\n",
       "      <td>17th Season</td>\n",
       "      <td>August 10, 1984</td>\n",
       "      <td>https://s3-us-west-2.amazonaws.com/static.fant...</td>\n",
       "      <td>14.00</td>\n",
       "      <td>SF</td>\n",
       "      <td>15</td>\n",
       "      <td>M.Prater</td>\n",
       "      <td>266.00</td>\n",
       "      <td>Scrambled</td>\n",
       "      <td>Scrambled</td>\n",
       "      <td>0.00</td>\n",
       "      <td>136.00</td>\n",
       "      <td>ARI</td>\n",
       "      <td>DET</td>\n",
       "      <td>2006.00</td>\n",
       "      <td>NaN</td>\n",
       "      <td>NaN</td>\n",
       "      <td>True</td>\n",
       "      <td>5</td>\n",
       "      <td>10</td>\n",
       "      <td>2</td>\n",
       "      <td>4.00</td>\n",
       "      <td>Scrambled</td>\n",
       "      <td>4910.00</td>\n",
       "      <td>300720.00</td>\n",
       "      <td>67f5e782-f91c-4536-9818-cf4a0e7e821d</td>\n",
       "      <td>4502.00</td>\n",
       "      <td>5051.00</td>\n",
       "      <td>218237.00</td>\n",
       "      <td>4014.00</td>\n",
       "      <td>8751.00</td>\n",
       "      <td>6782.00</td>\n",
       "      <td>218237.00</td>\n",
       "      <td>8565.00</td>\n",
       "      <td>Scrambled</td>\n",
       "      <td>Scrambled</td>\n",
       "      <td>NaN</td>\n",
       "      <td>Scrambled</td>\n",
       "      <td>Matt Prater</td>\n",
       "      <td>Matt Prater</td>\n",
       "      <td>Matt Prater</td>\n",
       "      <td>0.00</td>\n",
       "      <td>Scrambled</td>\n",
       "      <td>Scrambled</td>\n",
       "      <td>False</td>\n",
       "      <td>NaN</td>\n",
       "      <td>NaN</td>\n",
       "      <td>NaN</td>\n",
       "      <td>1.00</td>\n",
       "      <td>1</td>\n",
       "      <td>NaN</td>\n",
       "      <td>NaN</td>\n",
       "      <td>8274209.00</td>\n",
       "      <td>http://cdn.usatsimg.com/api/download/?imageID=...</td>\n",
       "      <td>http://cdn.usatsimg.com/api/download/?imageID=...</td>\n",
       "      <td>2023-11-22T11:25:08</td>\n",
       "      <td>2023-11-27T17:01:23</td>\n",
       "    </tr>\n",
       "    <tr>\n",
       "      <th>2</th>\n",
       "      <td>611</td>\n",
       "      <td>CLE</td>\n",
       "      <td>15.00</td>\n",
       "      <td>Joe</td>\n",
       "      <td>Flacco</td>\n",
       "      <td>QB</td>\n",
       "      <td>Active</td>\n",
       "      <td>6'6\"</td>\n",
       "      <td>245</td>\n",
       "      <td>1985-01-16T00:00:00</td>\n",
       "      <td>Delaware</td>\n",
       "      <td>11</td>\n",
       "      <td>QB</td>\n",
       "      <td>True</td>\n",
       "      <td>OFF</td>\n",
       "      <td>Joe Flacco</td>\n",
       "      <td>38.00</td>\n",
       "      <td>16th Season</td>\n",
       "      <td>January 16, 1985</td>\n",
       "      <td>https://s3-us-west-2.amazonaws.com/static.fant...</td>\n",
       "      <td>5.00</td>\n",
       "      <td>CHI</td>\n",
       "      <td>15</td>\n",
       "      <td>J.Flacco</td>\n",
       "      <td>368.30</td>\n",
       "      <td>Scrambled</td>\n",
       "      <td>Scrambled</td>\n",
       "      <td>0.00</td>\n",
       "      <td>0.00</td>\n",
       "      <td>CLE</td>\n",
       "      <td>BAL</td>\n",
       "      <td>2008.00</td>\n",
       "      <td>0.00</td>\n",
       "      <td>12.00</td>\n",
       "      <td>False</td>\n",
       "      <td>6</td>\n",
       "      <td>6</td>\n",
       "      <td>12</td>\n",
       "      <td>14.00</td>\n",
       "      <td>Scrambled</td>\n",
       "      <td>3751.00</td>\n",
       "      <td>302714.00</td>\n",
       "      <td>64797df2-efd3-4b27-86ee-1d48f7edb09f</td>\n",
       "      <td>4677.00</td>\n",
       "      <td>5648.00</td>\n",
       "      <td>216342.00</td>\n",
       "      <td>12802.00</td>\n",
       "      <td>10384.00</td>\n",
       "      <td>6714.00</td>\n",
       "      <td>216342.00</td>\n",
       "      <td>8795.00</td>\n",
       "      <td>Scrambled</td>\n",
       "      <td>Scrambled</td>\n",
       "      <td>NaN</td>\n",
       "      <td>Scrambled</td>\n",
       "      <td>Joe Flacco</td>\n",
       "      <td>Joe Flacco</td>\n",
       "      <td>Joe Flacco</td>\n",
       "      <td>0.00</td>\n",
       "      <td>Scrambled</td>\n",
       "      <td>Scrambled</td>\n",
       "      <td>False</td>\n",
       "      <td>4842.00</td>\n",
       "      <td>3751.00</td>\n",
       "      <td>18.00</td>\n",
       "      <td>8.00</td>\n",
       "      <td>8</td>\n",
       "      <td>216342.00</td>\n",
       "      <td>Joe Flacco</td>\n",
       "      <td>8322402.00</td>\n",
       "      <td>http://cdn.usatsimg.com/api/download/?imageID=...</td>\n",
       "      <td>http://cdn.usatsimg.com/api/download/?imageID=...</td>\n",
       "      <td>2020-08-22T12:33:40</td>\n",
       "      <td>2022-09-07T20:50:27</td>\n",
       "    </tr>\n",
       "    <tr>\n",
       "      <th>3</th>\n",
       "      <td>732</td>\n",
       "      <td>NaN</td>\n",
       "      <td>NaN</td>\n",
       "      <td>Matt</td>\n",
       "      <td>Ryan</td>\n",
       "      <td>QB</td>\n",
       "      <td>Inactive</td>\n",
       "      <td>6'4\"</td>\n",
       "      <td>220</td>\n",
       "      <td>1985-05-17T00:00:00</td>\n",
       "      <td>Boston College</td>\n",
       "      <td>11</td>\n",
       "      <td>QB</td>\n",
       "      <td>False</td>\n",
       "      <td>OFF</td>\n",
       "      <td>Matt Ryan</td>\n",
       "      <td>38.00</td>\n",
       "      <td>16th Season</td>\n",
       "      <td>May 17, 1985</td>\n",
       "      <td>https://s3-us-west-2.amazonaws.com/static.fant...</td>\n",
       "      <td>NaN</td>\n",
       "      <td>HOU</td>\n",
       "      <td>0</td>\n",
       "      <td>M.Ryan</td>\n",
       "      <td>525.80</td>\n",
       "      <td>Scrambled</td>\n",
       "      <td>Scrambled</td>\n",
       "      <td>NaN</td>\n",
       "      <td>NaN</td>\n",
       "      <td>NaN</td>\n",
       "      <td>ATL</td>\n",
       "      <td>2008.00</td>\n",
       "      <td>0.00</td>\n",
       "      <td>1.00</td>\n",
       "      <td>False</td>\n",
       "      <td>6</td>\n",
       "      <td>4</td>\n",
       "      <td>13</td>\n",
       "      <td>17.00</td>\n",
       "      <td>Scrambled</td>\n",
       "      <td>NaN</td>\n",
       "      <td>302726.00</td>\n",
       "      <td>7e648a0b-fdc8-4661-a587-5826f2cac11b</td>\n",
       "      <td>4637.00</td>\n",
       "      <td>5610.00</td>\n",
       "      <td>216263.00</td>\n",
       "      <td>12152.00</td>\n",
       "      <td>10265.00</td>\n",
       "      <td>6616.00</td>\n",
       "      <td>216263.00</td>\n",
       "      <td>8780.00</td>\n",
       "      <td>Scrambled</td>\n",
       "      <td>Scrambled</td>\n",
       "      <td>NaN</td>\n",
       "      <td>Scrambled</td>\n",
       "      <td>Matt Ryan</td>\n",
       "      <td>Matt Ryan</td>\n",
       "      <td>Matt Ryan</td>\n",
       "      <td>NaN</td>\n",
       "      <td>Scrambled</td>\n",
       "      <td>Scrambled</td>\n",
       "      <td>False</td>\n",
       "      <td>NaN</td>\n",
       "      <td>NaN</td>\n",
       "      <td>NaN</td>\n",
       "      <td>NaN</td>\n",
       "      <td>0</td>\n",
       "      <td>216263.00</td>\n",
       "      <td>Matt Ryan</td>\n",
       "      <td>8299794.00</td>\n",
       "      <td>http://cdn.usatsimg.com/api/download/?imageID=...</td>\n",
       "      <td>http://cdn.usatsimg.com/api/download/?imageID=...</td>\n",
       "      <td>2022-09-01T10:31:43</td>\n",
       "      <td>2022-01-19T01:13:56</td>\n",
       "    </tr>\n",
       "    <tr>\n",
       "      <th>4</th>\n",
       "      <td>1410</td>\n",
       "      <td>NaN</td>\n",
       "      <td>NaN</td>\n",
       "      <td>Robbie</td>\n",
       "      <td>Gould</td>\n",
       "      <td>K</td>\n",
       "      <td>Inactive</td>\n",
       "      <td>6'0\"</td>\n",
       "      <td>190</td>\n",
       "      <td>1982-12-06T00:00:00</td>\n",
       "      <td>Penn State</td>\n",
       "      <td>13</td>\n",
       "      <td>K</td>\n",
       "      <td>False</td>\n",
       "      <td>ST</td>\n",
       "      <td>Robbie Gould</td>\n",
       "      <td>41.00</td>\n",
       "      <td>19th Season</td>\n",
       "      <td>December 6, 1982</td>\n",
       "      <td>https://s3-us-west-2.amazonaws.com/static.fant...</td>\n",
       "      <td>NaN</td>\n",
       "      <td>PHI</td>\n",
       "      <td>0</td>\n",
       "      <td>R.Gould</td>\n",
       "      <td>NaN</td>\n",
       "      <td>Scrambled</td>\n",
       "      <td>Scrambled</td>\n",
       "      <td>NaN</td>\n",
       "      <td>NaN</td>\n",
       "      <td>NaN</td>\n",
       "      <td>NE</td>\n",
       "      <td>2005.00</td>\n",
       "      <td>NaN</td>\n",
       "      <td>NaN</td>\n",
       "      <td>True</td>\n",
       "      <td>6</td>\n",
       "      <td>0</td>\n",
       "      <td>21</td>\n",
       "      <td>5.00</td>\n",
       "      <td>Scrambled</td>\n",
       "      <td>NaN</td>\n",
       "      <td>300727.00</td>\n",
       "      <td>abd73d50-ce60-47f1-b37f-2f9a05b0d7b9</td>\n",
       "      <td>3519.00</td>\n",
       "      <td>4686.00</td>\n",
       "      <td>167377.00</td>\n",
       "      <td>4256.00</td>\n",
       "      <td>8406.00</td>\n",
       "      <td>6910.00</td>\n",
       "      <td>167377.00</td>\n",
       "      <td>7520.00</td>\n",
       "      <td>Scrambled</td>\n",
       "      <td>Scrambled</td>\n",
       "      <td>NaN</td>\n",
       "      <td>Scrambled</td>\n",
       "      <td>Robbie Gould</td>\n",
       "      <td>Robbie Gould</td>\n",
       "      <td>Robbie Gould</td>\n",
       "      <td>NaN</td>\n",
       "      <td>Scrambled</td>\n",
       "      <td>Scrambled</td>\n",
       "      <td>False</td>\n",
       "      <td>NaN</td>\n",
       "      <td>NaN</td>\n",
       "      <td>NaN</td>\n",
       "      <td>NaN</td>\n",
       "      <td>0</td>\n",
       "      <td>NaN</td>\n",
       "      <td>NaN</td>\n",
       "      <td>8249641.00</td>\n",
       "      <td>http://cdn.usatsimg.com/api/download/?imageID=...</td>\n",
       "      <td>http://cdn.usatsimg.com/api/download/?imageID=...</td>\n",
       "      <td>2022-09-07T14:45:48</td>\n",
       "      <td>2022-09-07T18:02:12</td>\n",
       "    </tr>\n",
       "    <tr>\n",
       "      <th>5</th>\n",
       "      <td>1694</td>\n",
       "      <td>LAR</td>\n",
       "      <td>3.00</td>\n",
       "      <td>Mason</td>\n",
       "      <td>Crosby</td>\n",
       "      <td>K</td>\n",
       "      <td>Active</td>\n",
       "      <td>6'1\"</td>\n",
       "      <td>207</td>\n",
       "      <td>1984-09-03T00:00:00</td>\n",
       "      <td>Colorado</td>\n",
       "      <td>12</td>\n",
       "      <td>K</td>\n",
       "      <td>True</td>\n",
       "      <td>ST</td>\n",
       "      <td>Mason Crosby</td>\n",
       "      <td>39.00</td>\n",
       "      <td>17th Season</td>\n",
       "      <td>September 3, 1984</td>\n",
       "      <td>https://s3-us-west-2.amazonaws.com/static.fant...</td>\n",
       "      <td>10.00</td>\n",
       "      <td>WAS</td>\n",
       "      <td>15</td>\n",
       "      <td>M.Crosby</td>\n",
       "      <td>536.70</td>\n",
       "      <td>Scrambled</td>\n",
       "      <td>Scrambled</td>\n",
       "      <td>0.00</td>\n",
       "      <td>136.00</td>\n",
       "      <td>LAR</td>\n",
       "      <td>GB</td>\n",
       "      <td>2007.00</td>\n",
       "      <td>3.00</td>\n",
       "      <td>132.00</td>\n",
       "      <td>False</td>\n",
       "      <td>6</td>\n",
       "      <td>1</td>\n",
       "      <td>22</td>\n",
       "      <td>20.00</td>\n",
       "      <td>Scrambled</td>\n",
       "      <td>4297.00</td>\n",
       "      <td>300740.00</td>\n",
       "      <td>e0856548-6fd5-4f83-9aa0-91f1bf4cbbd8</td>\n",
       "      <td>4182.00</td>\n",
       "      <td>5363.00</td>\n",
       "      <td>214574.00</td>\n",
       "      <td>3558.00</td>\n",
       "      <td>9535.00</td>\n",
       "      <td>6897.00</td>\n",
       "      <td>214574.00</td>\n",
       "      <td>8447.00</td>\n",
       "      <td>Scrambled</td>\n",
       "      <td>Scrambled</td>\n",
       "      <td>2023-12-10T00:00:00</td>\n",
       "      <td>Scrambled</td>\n",
       "      <td>Mason Crosby</td>\n",
       "      <td>Mason Crosby</td>\n",
       "      <td>Mason Crosby</td>\n",
       "      <td>1.00</td>\n",
       "      <td>Scrambled</td>\n",
       "      <td>Scrambled</td>\n",
       "      <td>True</td>\n",
       "      <td>NaN</td>\n",
       "      <td>NaN</td>\n",
       "      <td>NaN</td>\n",
       "      <td>32.00</td>\n",
       "      <td>32</td>\n",
       "      <td>NaN</td>\n",
       "      <td>NaN</td>\n",
       "      <td>8256748.00</td>\n",
       "      <td>http://cdn.usatsimg.com/api/download/?imageID=...</td>\n",
       "      <td>http://cdn.usatsimg.com/api/download/?imageID=...</td>\n",
       "      <td>2022-09-06T15:56:54</td>\n",
       "      <td>2022-09-07T17:00:13</td>\n",
       "    </tr>\n",
       "    <tr>\n",
       "      <th>6</th>\n",
       "      <td>2405</td>\n",
       "      <td>NaN</td>\n",
       "      <td>NaN</td>\n",
       "      <td>Chad</td>\n",
       "      <td>Henne</td>\n",
       "      <td>QB</td>\n",
       "      <td>Inactive</td>\n",
       "      <td>6'3\"</td>\n",
       "      <td>230</td>\n",
       "      <td>1985-07-02T00:00:00</td>\n",
       "      <td>Michigan</td>\n",
       "      <td>10</td>\n",
       "      <td>QB</td>\n",
       "      <td>False</td>\n",
       "      <td>OFF</td>\n",
       "      <td>Chad Henne</td>\n",
       "      <td>38.00</td>\n",
       "      <td>15th Season</td>\n",
       "      <td>July 2, 1985</td>\n",
       "      <td>https://s3-us-west-2.amazonaws.com/static.fant...</td>\n",
       "      <td>NaN</td>\n",
       "      <td>PHI</td>\n",
       "      <td>0</td>\n",
       "      <td>C.Henne</td>\n",
       "      <td>351.20</td>\n",
       "      <td>Scrambled</td>\n",
       "      <td>Scrambled</td>\n",
       "      <td>NaN</td>\n",
       "      <td>NaN</td>\n",
       "      <td>NaN</td>\n",
       "      <td>MIA</td>\n",
       "      <td>2008.00</td>\n",
       "      <td>1.00</td>\n",
       "      <td>39.00</td>\n",
       "      <td>False</td>\n",
       "      <td>6</td>\n",
       "      <td>3</td>\n",
       "      <td>21</td>\n",
       "      <td>22.00</td>\n",
       "      <td>Scrambled</td>\n",
       "      <td>NaN</td>\n",
       "      <td>302787.00</td>\n",
       "      <td>f55053e4-4bfd-495d-981a-d62e3662f01b</td>\n",
       "      <td>4684.00</td>\n",
       "      <td>5685.00</td>\n",
       "      <td>264851.00</td>\n",
       "      <td>16957.00</td>\n",
       "      <td>9313.00</td>\n",
       "      <td>7844.00</td>\n",
       "      <td>264851.00</td>\n",
       "      <td>8834.00</td>\n",
       "      <td>Scrambled</td>\n",
       "      <td>Scrambled</td>\n",
       "      <td>NaN</td>\n",
       "      <td>Scrambled</td>\n",
       "      <td>Chad Henne</td>\n",
       "      <td>Chad Henne</td>\n",
       "      <td>Chad Henne</td>\n",
       "      <td>NaN</td>\n",
       "      <td>Scrambled</td>\n",
       "      <td>Scrambled</td>\n",
       "      <td>False</td>\n",
       "      <td>NaN</td>\n",
       "      <td>NaN</td>\n",
       "      <td>NaN</td>\n",
       "      <td>NaN</td>\n",
       "      <td>0</td>\n",
       "      <td>264851.00</td>\n",
       "      <td>Chad Henne</td>\n",
       "      <td>8257243.00</td>\n",
       "      <td>http://cdn.usatsimg.com/api/download/?imageID=...</td>\n",
       "      <td>http://cdn.usatsimg.com/api/download/?imageID=...</td>\n",
       "      <td>2022-09-22T13:21:06</td>\n",
       "      <td>2022-09-22T13:21:03</td>\n",
       "    </tr>\n",
       "    <tr>\n",
       "      <th>7</th>\n",
       "      <td>2593</td>\n",
       "      <td>NYJ</td>\n",
       "      <td>8.00</td>\n",
       "      <td>Aaron</td>\n",
       "      <td>Rodgers</td>\n",
       "      <td>QB</td>\n",
       "      <td>Injured Reserve</td>\n",
       "      <td>6'2\"</td>\n",
       "      <td>223</td>\n",
       "      <td>1983-12-02T00:00:00</td>\n",
       "      <td>California</td>\n",
       "      <td>13</td>\n",
       "      <td>QB</td>\n",
       "      <td>True</td>\n",
       "      <td>OFF</td>\n",
       "      <td>Aaron Rodgers</td>\n",
       "      <td>40.00</td>\n",
       "      <td>19th Season</td>\n",
       "      <td>December 2, 1983</td>\n",
       "      <td>https://s3-us-west-2.amazonaws.com/static.fant...</td>\n",
       "      <td>7.00</td>\n",
       "      <td>MIA</td>\n",
       "      <td>15</td>\n",
       "      <td>A.Rodgers</td>\n",
       "      <td>68.90</td>\n",
       "      <td>Scrambled</td>\n",
       "      <td>Scrambled</td>\n",
       "      <td>NaN</td>\n",
       "      <td>NaN</td>\n",
       "      <td>NYJ</td>\n",
       "      <td>GB</td>\n",
       "      <td>2005.00</td>\n",
       "      <td>0.00</td>\n",
       "      <td>16.00</td>\n",
       "      <td>False</td>\n",
       "      <td>6</td>\n",
       "      <td>2</td>\n",
       "      <td>5</td>\n",
       "      <td>12.00</td>\n",
       "      <td>Scrambled</td>\n",
       "      <td>2728.00</td>\n",
       "      <td>302676.00</td>\n",
       "      <td>0ce48193-e2fa-466e-a986-33f751add206</td>\n",
       "      <td>3118.00</td>\n",
       "      <td>4307.00</td>\n",
       "      <td>213957.00</td>\n",
       "      <td>2609.00</td>\n",
       "      <td>7705.00</td>\n",
       "      <td>6894.00</td>\n",
       "      <td>213957.00</td>\n",
       "      <td>7200.00</td>\n",
       "      <td>Scrambled</td>\n",
       "      <td>Scrambled</td>\n",
       "      <td>2023-09-11T00:00:00</td>\n",
       "      <td>Scrambled</td>\n",
       "      <td>Aaron Rodgers</td>\n",
       "      <td>Aaron Rodgers</td>\n",
       "      <td>Aaron Rodgers</td>\n",
       "      <td>1.00</td>\n",
       "      <td>Scrambled</td>\n",
       "      <td>Scrambled</td>\n",
       "      <td>False</td>\n",
       "      <td>4433.00</td>\n",
       "      <td>2728.00</td>\n",
       "      <td>14.00</td>\n",
       "      <td>24.00</td>\n",
       "      <td>24</td>\n",
       "      <td>213957.00</td>\n",
       "      <td>Aaron Rodgers</td>\n",
       "      <td>8314357.00</td>\n",
       "      <td>http://cdn.usatsimg.com/api/download/?imageID=...</td>\n",
       "      <td>http://cdn.usatsimg.com/api/download/?imageID=...</td>\n",
       "      <td>2023-09-01T09:55:09</td>\n",
       "      <td>2023-09-02T15:42:29</td>\n",
       "    </tr>\n",
       "    <tr>\n",
       "      <th>8</th>\n",
       "      <td>3061</td>\n",
       "      <td>CHI</td>\n",
       "      <td>84.00</td>\n",
       "      <td>Marcedes</td>\n",
       "      <td>Lewis</td>\n",
       "      <td>TE</td>\n",
       "      <td>Active</td>\n",
       "      <td>6'6\"</td>\n",
       "      <td>265</td>\n",
       "      <td>1984-05-19T00:00:00</td>\n",
       "      <td>UCLA</td>\n",
       "      <td>12</td>\n",
       "      <td>TE</td>\n",
       "      <td>True</td>\n",
       "      <td>OFF</td>\n",
       "      <td>Marcedes Lewis</td>\n",
       "      <td>39.00</td>\n",
       "      <td>18th Season</td>\n",
       "      <td>May 19, 1984</td>\n",
       "      <td>https://s3-us-west-2.amazonaws.com/static.fant...</td>\n",
       "      <td>13.00</td>\n",
       "      <td>CLE</td>\n",
       "      <td>15</td>\n",
       "      <td>M.Lewis</td>\n",
       "      <td>523.80</td>\n",
       "      <td>Scrambled</td>\n",
       "      <td>Scrambled</td>\n",
       "      <td>1.00</td>\n",
       "      <td>4.00</td>\n",
       "      <td>CHI</td>\n",
       "      <td>JAX</td>\n",
       "      <td>2006.00</td>\n",
       "      <td>0.00</td>\n",
       "      <td>19.00</td>\n",
       "      <td>False</td>\n",
       "      <td>6</td>\n",
       "      <td>6</td>\n",
       "      <td>0</td>\n",
       "      <td>2.00</td>\n",
       "      <td>Scrambled</td>\n",
       "      <td>1705.00</td>\n",
       "      <td>301411.00</td>\n",
       "      <td>9c21e9af-681c-41ef-9b00-fbc9e1668ed1</td>\n",
       "      <td>3615.00</td>\n",
       "      <td>4891.00</td>\n",
       "      <td>214197.00</td>\n",
       "      <td>4441.00</td>\n",
       "      <td>7815.00</td>\n",
       "      <td>6672.00</td>\n",
       "      <td>214197.00</td>\n",
       "      <td>7777.00</td>\n",
       "      <td>Scrambled</td>\n",
       "      <td>Scrambled</td>\n",
       "      <td>NaN</td>\n",
       "      <td>Scrambled</td>\n",
       "      <td>Marcedes Lewis</td>\n",
       "      <td>Marcedes Lewis</td>\n",
       "      <td>Marcedes Lewis</td>\n",
       "      <td>1.00</td>\n",
       "      <td>Scrambled</td>\n",
       "      <td>Scrambled</td>\n",
       "      <td>False</td>\n",
       "      <td>2864.00</td>\n",
       "      <td>1705.00</td>\n",
       "      <td>5.00</td>\n",
       "      <td>6.00</td>\n",
       "      <td>6</td>\n",
       "      <td>214197.00</td>\n",
       "      <td>Marcedes Lewis</td>\n",
       "      <td>8313283.00</td>\n",
       "      <td>http://cdn.usatsimg.com/api/download/?imageID=...</td>\n",
       "      <td>http://cdn.usatsimg.com/api/download/?imageID=...</td>\n",
       "      <td>2023-09-09T08:47:34</td>\n",
       "      <td>2023-09-09T14:40:48</td>\n",
       "    </tr>\n",
       "    <tr>\n",
       "      <th>9</th>\n",
       "      <td>3100</td>\n",
       "      <td>NaN</td>\n",
       "      <td>NaN</td>\n",
       "      <td>Andy</td>\n",
       "      <td>Lee</td>\n",
       "      <td>P</td>\n",
       "      <td>Inactive</td>\n",
       "      <td>6'1\"</td>\n",
       "      <td>185</td>\n",
       "      <td>1982-08-11T00:00:00</td>\n",
       "      <td>Pittsburgh</td>\n",
       "      <td>14</td>\n",
       "      <td>P</td>\n",
       "      <td>False</td>\n",
       "      <td>ST</td>\n",
       "      <td>Andy Lee</td>\n",
       "      <td>41.00</td>\n",
       "      <td>20th Season</td>\n",
       "      <td>August 11, 1982</td>\n",
       "      <td>https://s3-us-west-2.amazonaws.com/static.fant...</td>\n",
       "      <td>NaN</td>\n",
       "      <td>SF</td>\n",
       "      <td>0</td>\n",
       "      <td>A.Lee</td>\n",
       "      <td>NaN</td>\n",
       "      <td>Scrambled</td>\n",
       "      <td>Scrambled</td>\n",
       "      <td>NaN</td>\n",
       "      <td>NaN</td>\n",
       "      <td>NaN</td>\n",
       "      <td>SF</td>\n",
       "      <td>2004.00</td>\n",
       "      <td>3.00</td>\n",
       "      <td>128.00</td>\n",
       "      <td>False</td>\n",
       "      <td>6</td>\n",
       "      <td>1</td>\n",
       "      <td>2</td>\n",
       "      <td>4.00</td>\n",
       "      <td>Scrambled</td>\n",
       "      <td>NaN</td>\n",
       "      <td>302833.00</td>\n",
       "      <td>edaad8e3-62cd-4715-b225-0010ee9825a0</td>\n",
       "      <td>2884.00</td>\n",
       "      <td>4044.00</td>\n",
       "      <td>NaN</td>\n",
       "      <td>17809.00</td>\n",
       "      <td>7052.00</td>\n",
       "      <td>NaN</td>\n",
       "      <td>246395.00</td>\n",
       "      <td>6947.00</td>\n",
       "      <td>Scrambled</td>\n",
       "      <td>Scrambled</td>\n",
       "      <td>NaN</td>\n",
       "      <td>Scrambled</td>\n",
       "      <td>NaN</td>\n",
       "      <td>Andy Lee</td>\n",
       "      <td>NaN</td>\n",
       "      <td>NaN</td>\n",
       "      <td>Scrambled</td>\n",
       "      <td>Scrambled</td>\n",
       "      <td>False</td>\n",
       "      <td>NaN</td>\n",
       "      <td>NaN</td>\n",
       "      <td>NaN</td>\n",
       "      <td>NaN</td>\n",
       "      <td>0</td>\n",
       "      <td>NaN</td>\n",
       "      <td>NaN</td>\n",
       "      <td>8249414.00</td>\n",
       "      <td>http://cdn.usatsimg.com/api/download/?imageID=...</td>\n",
       "      <td>http://cdn.usatsimg.com/api/download/?imageID=...</td>\n",
       "      <td>2021-08-11T20:20:24</td>\n",
       "      <td>2021-08-11T20:20:57</td>\n",
       "    </tr>\n",
       "  </tbody>\n",
       "</table>\n",
       "</div>"
      ],
      "text/plain": [
       "   PlayerID Team  Number FirstName LastName Position           Status Height  Weight            BirthDate          College  Experience FantasyPosition  Active PositionCategory            Name   Age ExperienceString    BirthDateString                                           PhotoUrl  ByeWeek UpcomingGameOpponent  UpcomingGameWeek  ShortName  AverageDraftPosition DepthPositionCategory DepthPosition  DepthOrder  DepthDisplayOrder CurrentTeam CollegeDraftTeam  CollegeDraftYear  CollegeDraftRound  CollegeDraftPick  IsUndraftedFreeAgent  HeightFeet  HeightInches  UpcomingOpponentRank  UpcomingOpponentPositionRank CurrentStatus  UpcomingSalary  FantasyAlarmPlayerID                    SportRadarPlayerID  RotoworldPlayerID  RotoWirePlayerID  StatsPlayerID  SportsDirectPlayerID  XmlTeamPlayerID  FanDuelPlayerID  DraftKingsPlayerID  YahooPlayerID InjuryStatus InjuryBodyPart      InjuryStartDate InjuryNotes     FanDuelName  DraftKingsName       YahooName  FantasyPositionDepthOrder  \\\n",
       "0       430  NaN     NaN       Sam     Koch        P         Inactive   6'1\"     222  1982-08-13T00:00:00         Nebraska          12               P   False               ST        Sam Koch 41.00      17th Season    August 13, 1982  https://s3-us-west-2.amazonaws.com/static.fant...      NaN                  TEN                 0     S.Koch                   NaN             Scrambled     Scrambled         NaN                NaN         NaN              BAL           2006.00               3.00            138.00                 False           6             1                     7                         21.00     Scrambled             NaN             302805.00  544e4159-3da3-47ad-866c-bf48d7634f25                NaN           7073.00      214953.00              11211.00          8642.00              NaN                 NaN        7952.00    Scrambled      Scrambled                  NaN   Scrambled             NaN             NaN             NaN                        NaN   \n",
       "1       549  ARI    5.00      Matt   Prater        K           Active  5'10\"     201  1984-08-10T00:00:00  Central Florida          12               K    True               ST     Matt Prater 39.00      17th Season    August 10, 1984  https://s3-us-west-2.amazonaws.com/static.fant...    14.00                   SF                15   M.Prater                266.00             Scrambled     Scrambled        0.00             136.00         ARI              DET           2006.00                NaN               NaN                  True           5            10                     2                          4.00     Scrambled         4910.00             300720.00  67f5e782-f91c-4536-9818-cf4a0e7e821d            4502.00           5051.00      218237.00               4014.00          8751.00          6782.00           218237.00        8565.00    Scrambled      Scrambled                  NaN   Scrambled     Matt Prater     Matt Prater     Matt Prater                       0.00   \n",
       "2       611  CLE   15.00       Joe   Flacco       QB           Active   6'6\"     245  1985-01-16T00:00:00         Delaware          11              QB    True              OFF      Joe Flacco 38.00      16th Season   January 16, 1985  https://s3-us-west-2.amazonaws.com/static.fant...     5.00                  CHI                15   J.Flacco                368.30             Scrambled     Scrambled        0.00               0.00         CLE              BAL           2008.00               0.00             12.00                 False           6             6                    12                         14.00     Scrambled         3751.00             302714.00  64797df2-efd3-4b27-86ee-1d48f7edb09f            4677.00           5648.00      216342.00              12802.00         10384.00          6714.00           216342.00        8795.00    Scrambled      Scrambled                  NaN   Scrambled      Joe Flacco      Joe Flacco      Joe Flacco                       0.00   \n",
       "3       732  NaN     NaN      Matt     Ryan       QB         Inactive   6'4\"     220  1985-05-17T00:00:00   Boston College          11              QB   False              OFF       Matt Ryan 38.00      16th Season       May 17, 1985  https://s3-us-west-2.amazonaws.com/static.fant...      NaN                  HOU                 0     M.Ryan                525.80             Scrambled     Scrambled         NaN                NaN         NaN              ATL           2008.00               0.00              1.00                 False           6             4                    13                         17.00     Scrambled             NaN             302726.00  7e648a0b-fdc8-4661-a587-5826f2cac11b            4637.00           5610.00      216263.00              12152.00         10265.00          6616.00           216263.00        8780.00    Scrambled      Scrambled                  NaN   Scrambled       Matt Ryan       Matt Ryan       Matt Ryan                        NaN   \n",
       "4      1410  NaN     NaN    Robbie    Gould        K         Inactive   6'0\"     190  1982-12-06T00:00:00       Penn State          13               K   False               ST    Robbie Gould 41.00      19th Season   December 6, 1982  https://s3-us-west-2.amazonaws.com/static.fant...      NaN                  PHI                 0    R.Gould                   NaN             Scrambled     Scrambled         NaN                NaN         NaN               NE           2005.00                NaN               NaN                  True           6             0                    21                          5.00     Scrambled             NaN             300727.00  abd73d50-ce60-47f1-b37f-2f9a05b0d7b9            3519.00           4686.00      167377.00               4256.00          8406.00          6910.00           167377.00        7520.00    Scrambled      Scrambled                  NaN   Scrambled    Robbie Gould    Robbie Gould    Robbie Gould                        NaN   \n",
       "5      1694  LAR    3.00     Mason   Crosby        K           Active   6'1\"     207  1984-09-03T00:00:00         Colorado          12               K    True               ST    Mason Crosby 39.00      17th Season  September 3, 1984  https://s3-us-west-2.amazonaws.com/static.fant...    10.00                  WAS                15   M.Crosby                536.70             Scrambled     Scrambled        0.00             136.00         LAR               GB           2007.00               3.00            132.00                 False           6             1                    22                         20.00     Scrambled         4297.00             300740.00  e0856548-6fd5-4f83-9aa0-91f1bf4cbbd8            4182.00           5363.00      214574.00               3558.00          9535.00          6897.00           214574.00        8447.00    Scrambled      Scrambled  2023-12-10T00:00:00   Scrambled    Mason Crosby    Mason Crosby    Mason Crosby                       1.00   \n",
       "6      2405  NaN     NaN      Chad    Henne       QB         Inactive   6'3\"     230  1985-07-02T00:00:00         Michigan          10              QB   False              OFF      Chad Henne 38.00      15th Season       July 2, 1985  https://s3-us-west-2.amazonaws.com/static.fant...      NaN                  PHI                 0    C.Henne                351.20             Scrambled     Scrambled         NaN                NaN         NaN              MIA           2008.00               1.00             39.00                 False           6             3                    21                         22.00     Scrambled             NaN             302787.00  f55053e4-4bfd-495d-981a-d62e3662f01b            4684.00           5685.00      264851.00              16957.00          9313.00          7844.00           264851.00        8834.00    Scrambled      Scrambled                  NaN   Scrambled      Chad Henne      Chad Henne      Chad Henne                        NaN   \n",
       "7      2593  NYJ    8.00     Aaron  Rodgers       QB  Injured Reserve   6'2\"     223  1983-12-02T00:00:00       California          13              QB    True              OFF   Aaron Rodgers 40.00      19th Season   December 2, 1983  https://s3-us-west-2.amazonaws.com/static.fant...     7.00                  MIA                15  A.Rodgers                 68.90             Scrambled     Scrambled         NaN                NaN         NYJ               GB           2005.00               0.00             16.00                 False           6             2                     5                         12.00     Scrambled         2728.00             302676.00  0ce48193-e2fa-466e-a986-33f751add206            3118.00           4307.00      213957.00               2609.00          7705.00          6894.00           213957.00        7200.00    Scrambled      Scrambled  2023-09-11T00:00:00   Scrambled   Aaron Rodgers   Aaron Rodgers   Aaron Rodgers                       1.00   \n",
       "8      3061  CHI   84.00  Marcedes    Lewis       TE           Active   6'6\"     265  1984-05-19T00:00:00             UCLA          12              TE    True              OFF  Marcedes Lewis 39.00      18th Season       May 19, 1984  https://s3-us-west-2.amazonaws.com/static.fant...    13.00                  CLE                15    M.Lewis                523.80             Scrambled     Scrambled        1.00               4.00         CHI              JAX           2006.00               0.00             19.00                 False           6             6                     0                          2.00     Scrambled         1705.00             301411.00  9c21e9af-681c-41ef-9b00-fbc9e1668ed1            3615.00           4891.00      214197.00               4441.00          7815.00          6672.00           214197.00        7777.00    Scrambled      Scrambled                  NaN   Scrambled  Marcedes Lewis  Marcedes Lewis  Marcedes Lewis                       1.00   \n",
       "9      3100  NaN     NaN      Andy      Lee        P         Inactive   6'1\"     185  1982-08-11T00:00:00       Pittsburgh          14               P   False               ST        Andy Lee 41.00      20th Season    August 11, 1982  https://s3-us-west-2.amazonaws.com/static.fant...      NaN                   SF                 0      A.Lee                   NaN             Scrambled     Scrambled         NaN                NaN         NaN               SF           2004.00               3.00            128.00                 False           6             1                     2                          4.00     Scrambled             NaN             302833.00  edaad8e3-62cd-4715-b225-0010ee9825a0            2884.00           4044.00            NaN              17809.00          7052.00              NaN           246395.00        6947.00    Scrambled      Scrambled                  NaN   Scrambled             NaN        Andy Lee             NaN                        NaN   \n",
       "\n",
       "  InjuryPractice InjuryPracticeDescription  DeclaredInactive  UpcomingFanDuelSalary  UpcomingDraftKingsSalary  UpcomingYahooSalary  TeamID  GlobalTeamID  FantasyDraftPlayerID FantasyDraftName  UsaTodayPlayerID                                UsaTodayHeadshotUrl                    UsaTodayHeadshotNoBackgroundUrl UsaTodayHeadshotUpdated UsaTodayHeadshotNoBackgroundUpdated  \n",
       "0      Scrambled                 Scrambled             False                    NaN                       NaN                  NaN     NaN             0                   NaN              NaN        8253808.00  http://cdn.usatsimg.com/api/download/?imageID=...  http://cdn.usatsimg.com/api/download/?imageID=...     2021-08-15T21:54:16                 2021-08-18T20:29:39  \n",
       "1      Scrambled                 Scrambled             False                    NaN                       NaN                  NaN    1.00             1                   NaN              NaN        8274209.00  http://cdn.usatsimg.com/api/download/?imageID=...  http://cdn.usatsimg.com/api/download/?imageID=...     2023-11-22T11:25:08                 2023-11-27T17:01:23  \n",
       "2      Scrambled                 Scrambled             False                4842.00                   3751.00                18.00    8.00             8             216342.00       Joe Flacco        8322402.00  http://cdn.usatsimg.com/api/download/?imageID=...  http://cdn.usatsimg.com/api/download/?imageID=...     2020-08-22T12:33:40                 2022-09-07T20:50:27  \n",
       "3      Scrambled                 Scrambled             False                    NaN                       NaN                  NaN     NaN             0             216263.00        Matt Ryan        8299794.00  http://cdn.usatsimg.com/api/download/?imageID=...  http://cdn.usatsimg.com/api/download/?imageID=...     2022-09-01T10:31:43                 2022-01-19T01:13:56  \n",
       "4      Scrambled                 Scrambled             False                    NaN                       NaN                  NaN     NaN             0                   NaN              NaN        8249641.00  http://cdn.usatsimg.com/api/download/?imageID=...  http://cdn.usatsimg.com/api/download/?imageID=...     2022-09-07T14:45:48                 2022-09-07T18:02:12  \n",
       "5      Scrambled                 Scrambled              True                    NaN                       NaN                  NaN   32.00            32                   NaN              NaN        8256748.00  http://cdn.usatsimg.com/api/download/?imageID=...  http://cdn.usatsimg.com/api/download/?imageID=...     2022-09-06T15:56:54                 2022-09-07T17:00:13  \n",
       "6      Scrambled                 Scrambled             False                    NaN                       NaN                  NaN     NaN             0             264851.00       Chad Henne        8257243.00  http://cdn.usatsimg.com/api/download/?imageID=...  http://cdn.usatsimg.com/api/download/?imageID=...     2022-09-22T13:21:06                 2022-09-22T13:21:03  \n",
       "7      Scrambled                 Scrambled             False                4433.00                   2728.00                14.00   24.00            24             213957.00    Aaron Rodgers        8314357.00  http://cdn.usatsimg.com/api/download/?imageID=...  http://cdn.usatsimg.com/api/download/?imageID=...     2023-09-01T09:55:09                 2023-09-02T15:42:29  \n",
       "8      Scrambled                 Scrambled             False                2864.00                   1705.00                 5.00    6.00             6             214197.00   Marcedes Lewis        8313283.00  http://cdn.usatsimg.com/api/download/?imageID=...  http://cdn.usatsimg.com/api/download/?imageID=...     2023-09-09T08:47:34                 2023-09-09T14:40:48  \n",
       "9      Scrambled                 Scrambled             False                    NaN                       NaN                  NaN     NaN             0                   NaN              NaN        8249414.00  http://cdn.usatsimg.com/api/download/?imageID=...  http://cdn.usatsimg.com/api/download/?imageID=...     2021-08-11T20:20:24                 2021-08-11T20:20:57  "
      ]
     },
     "execution_count": 2636,
     "metadata": {},
     "output_type": "execute_result"
    }
   ],
   "source": [
    "df_nfl.head(10)"
   ]
  },
  {
   "cell_type": "markdown",
   "metadata": {},
   "source": [
    "After looking into the CSV file, we will remove unnecessary columns"
   ]
  },
  {
   "cell_type": "code",
   "execution_count": 2637,
   "metadata": {},
   "outputs": [],
   "source": [
    "cols_to_drop = [\"PlayerID\", \"Number\", \"FirstName\", \"LastName\", \"FantasyPosition\", \n",
    "                \"PhotoUrl\", \"ByeWeek\", \"UpcomingGameOpponent\", \"UpcomingGameWeek\", \n",
    "                \"ShortName\", \"AverageDraftPosition\", \"DepthPositionCategory\", \n",
    "                \"DepthPosition\", \"DepthOrder\", \"DepthDisplayOrder\", \"CurrentTeam\", \n",
    "                \"CollegeDraftTeam\", \"CollegeDraftYear\", \"CollegeDraftRound\", \n",
    "                \"CollegeDraftPick\", \"IsUndraftedFreeAgent\", 'BirthDate', 'BirthDateString',\n",
    "                \"UpcomingOpponentRank\", \"UpcomingOpponentPositionRank\", \"CurrentStatus\",\n",
    "                \"FantasyAlarmPlayerID\", \"SportRadarPlayerID\", 'UpcomingSalary',\n",
    "                \"RotoworldPlayerID\", \"RotoWirePlayerID\", \"StatsPlayerID\", \"SportsDirectPlayerID\", \n",
    "                \"XmlTeamPlayerID\", \"FanDuelPlayerID\", \"DraftKingsPlayerID\", \"YahooPlayerID\", \n",
    "                \"InjuryStatus\", \"InjuryBodyPart\", \"InjuryStartDate\", \"InjuryNotes\", \n",
    "                \"FanDuelName\", \"DraftKingsName\", \"YahooName\", \"FantasyPositionDepthOrder\", \n",
    "                \"InjuryPractice\", \"InjuryPracticeDescription\", \"DeclaredInactive\", \n",
    "                \"UpcomingFanDuelSalary\", \"UpcomingDraftKingsSalary\", \"UpcomingYahooSalary\", \n",
    "                \"TeamID\", \"GlobalTeamID\", \"FantasyDraftPlayerID\", \"FantasyDraftName\", \n",
    "                \"UsaTodayPlayerID\", \"UsaTodayHeadshotUrl\", \"UsaTodayHeadshotNoBackgroundUrl\", \n",
    "                \"UsaTodayHeadshotUpdated\", \"UsaTodayHeadshotNoBackgroundUpdated\"]\n",
    "df_nfl = df_nfl.drop(cols_to_drop, axis=1)"
   ]
  },
  {
   "cell_type": "markdown",
   "metadata": {},
   "source": [
    "Step 2: Gather salary data\n",
    "- Using the selector gadget and inspecting the webpage, we are able to specifiy only the elements of interest."
   ]
  },
  {
   "cell_type": "code",
   "execution_count": 2638,
   "metadata": {},
   "outputs": [],
   "source": [
    "SALARY_URL = 'https://www.spotrac.com/nfl/salaries/breakdown/'\n",
    "\n",
    "if not os.path.exists('nfl_salaries.csv'):\n",
    "    print('Requesting NFL salary data...')\n",
    "    response = requests.get(SALARY_URL)\n",
    "    if response.status_code == 200:\n",
    "        soup = bs(response.content, 'html.parser')\n",
    "        players_html = soup.select(selector='td.player a')\n",
    "        salaries_html = soup.select(selector='table tr .xs-hide+ td.right span.cap.info')\n",
    "        players = [player.string for player in players_html]\n",
    "        salaries = [salary.string for salary in salaries_html]\n",
    "        df_salaries = pd.DataFrame({'Name': players, 'Salary': salaries})\n",
    "        df_salaries.to_csv('nfl_salaries.csv', index=False)\n",
    "    else:\n",
    "        print('Error:', response.status_code, response.reason)\n",
    "else:\n",
    "    df_salaries = pd.read_csv('nfl_salaries.csv')"
   ]
  },
  {
   "cell_type": "markdown",
   "metadata": {},
   "source": [
    "Step 3: Import manually collected data from: https://www.espn.com/nfl/stats/player/_/view\n",
    "*note: I attempted to gather this data utilizing the requests requests library but ran into 2 problems:\n",
    "1) 403 error: Forbidden. I checked the robots.txt file and did not find any mention of nfl/stats/player. Thus I looked for a solution using a code snippet from stackoverflow (https://stackoverflow.com/questions/38489386/how-to-fix-403-forbidden-errors-when-calling-apis-using-python-requests).\n",
    "2) The page contained a \"Show more\" button and the requests package would only get the first 50 entries. I could have looked into a Selenium solution but since the dataset wasnt that big, I ultimatly just copied and pasted the data into a CSV manually."
   ]
  },
  {
   "cell_type": "code",
   "execution_count": 2639,
   "metadata": {},
   "outputs": [],
   "source": [
    "df_passing = pd.read_csv('passing_stats.csv')\n",
    "df_recieving = pd.read_csv('recieving_stats.csv')\n",
    "df_rushing = pd.read_csv('rushing_stats.csv')\n",
    "df_defense = pd.read_csv('defense_stats.csv')\n",
    "\n",
    "df_game_stats = df_passing.merge(\n",
    "    df_recieving, on='Name', how='outer').merge(\n",
    "        df_rushing, on='Name', how='outer').merge(\n",
    "            df_defense, on='Name', how='outer'\n",
    "        )\n",
    "\n",
    "df_game_stats = df_game_stats.fillna(0)"
   ]
  },
  {
   "cell_type": "markdown",
   "metadata": {},
   "source": [
    "Step 4: Combine the datasets\n",
    "- We will notice a drop in entries. This is mainly due to not having the salaries of every listed player between each dataset. For the names that do exist between each dataset, the Names (which is the column we are merging on) appear to be the same. I looked into edges cases of abbreviations and suffix's and I did not see signs of concern.\n",
    "- Another observation is that the the df_nfl dataset contains much more entires. This is because it includes inactive players. "
   ]
  },
  {
   "cell_type": "code",
   "execution_count": 2640,
   "metadata": {},
   "outputs": [
    {
     "name": "stdout",
     "output_type": "stream",
     "text": [
      "len(df_nfl)=4154\n",
      "len(df_salaries)=1086\n",
      "len(df_game_stats)=1566\n",
      "len(df)=780\n"
     ]
    }
   ],
   "source": [
    "print(f'{len(df_nfl)=}')\n",
    "print(f'{len(df_salaries)=}')\n",
    "print(f'{len(df_game_stats)=}')\n",
    "df = pd.merge(df_salaries, df_nfl, how='inner', on='Name')\n",
    "df = df.merge(df_game_stats, how='inner', on='Name')\n",
    "\n",
    "# Randomize the order of the rows as it is currenlty sorted by decending salary\n",
    "# Use a random_state to get the same randomization each time so it doesnt affect the model\n",
    "df = df.sample(frac=1, random_state=10).reset_index(drop=True) \n",
    "df = df.drop('Name', axis=1)\n",
    "print(f'{len(df)=}')"
   ]
  },
  {
   "cell_type": "markdown",
   "metadata": {},
   "source": [
    "Step 5: Data Pre-Processing"
   ]
  },
  {
   "cell_type": "markdown",
   "metadata": {},
   "source": [
    "- Remove inactive players as we are only working with current players. \n",
    "\n",
    "__(After reviewing, this is a large oversight and I should have included much more historical data, and account for inflation when pre-processing the salaries)__"
   ]
  },
  {
   "cell_type": "code",
   "execution_count": 2641,
   "metadata": {},
   "outputs": [],
   "source": [
    "df = df[df['Active']==True]\n",
    "df = df.drop('Active', axis=1)"
   ]
  },
  {
   "cell_type": "markdown",
   "metadata": {},
   "source": [
    "Check for missing values and their context to determine how we want to handle these"
   ]
  },
  {
   "cell_type": "code",
   "execution_count": 2642,
   "metadata": {},
   "outputs": [
    {
     "name": "stdout",
     "output_type": "stream",
     "text": [
      "Salary                   6\n",
      "Team                     0\n",
      "Position                 0\n",
      "Status                   0\n",
      "Height                   0\n",
      "Weight                   0\n",
      "College                  1\n",
      "Experience               0\n",
      "PositionCategory         0\n",
      "Age                      0\n",
      "ExperienceString         0\n",
      "HeightFeet               0\n",
      "HeightInches             0\n",
      "CMP%                     0\n",
      "PassingYards             0\n",
      "PassingYardsPerGame      0\n",
      "PassingTouchDowns        0\n",
      "RecievingYards           0\n",
      "AvgRecievingYards        0\n",
      "ReceivingTouchdowns      0\n",
      "RecievingYardsPerGame    0\n",
      "RushingYards             0\n",
      "RushingTouchDowns        0\n",
      "RushingYardsPerGame      0\n",
      "SoloTackles              0\n",
      "AssistedTackles          0\n",
      "TotalTackles             0\n",
      "dtype: int64\n"
     ]
    }
   ],
   "source": [
    "nan_df = df.isna()\n",
    "print(df.isnull().sum())"
   ]
  },
  {
   "cell_type": "markdown",
   "metadata": {},
   "source": [
    "Firstly, we notice that Salary is missing for 6 players. This is crutial information for us to test on but since it is an unknown, we will drop these entries. "
   ]
  },
  {
   "cell_type": "code",
   "execution_count": 2643,
   "metadata": {},
   "outputs": [
    {
     "data": {
      "text/html": [
       "<div>\n",
       "<style scoped>\n",
       "    .dataframe tbody tr th:only-of-type {\n",
       "        vertical-align: middle;\n",
       "    }\n",
       "\n",
       "    .dataframe tbody tr th {\n",
       "        vertical-align: top;\n",
       "    }\n",
       "\n",
       "    .dataframe thead th {\n",
       "        text-align: right;\n",
       "    }\n",
       "</style>\n",
       "<table border=\"1\" class=\"dataframe\">\n",
       "  <thead>\n",
       "    <tr style=\"text-align: right;\">\n",
       "      <th></th>\n",
       "      <th>Salary</th>\n",
       "      <th>Team</th>\n",
       "      <th>Position</th>\n",
       "      <th>Status</th>\n",
       "      <th>Height</th>\n",
       "      <th>Weight</th>\n",
       "      <th>College</th>\n",
       "      <th>Experience</th>\n",
       "      <th>PositionCategory</th>\n",
       "      <th>Age</th>\n",
       "      <th>ExperienceString</th>\n",
       "      <th>HeightFeet</th>\n",
       "      <th>HeightInches</th>\n",
       "      <th>CMP%</th>\n",
       "      <th>PassingYards</th>\n",
       "      <th>PassingYardsPerGame</th>\n",
       "      <th>PassingTouchDowns</th>\n",
       "      <th>RecievingYards</th>\n",
       "      <th>AvgRecievingYards</th>\n",
       "      <th>ReceivingTouchdowns</th>\n",
       "      <th>RecievingYardsPerGame</th>\n",
       "      <th>RushingYards</th>\n",
       "      <th>RushingTouchDowns</th>\n",
       "      <th>RushingYardsPerGame</th>\n",
       "      <th>SoloTackles</th>\n",
       "      <th>AssistedTackles</th>\n",
       "      <th>TotalTackles</th>\n",
       "    </tr>\n",
       "  </thead>\n",
       "  <tbody>\n",
       "    <tr>\n",
       "      <th>61</th>\n",
       "      <td>NaN</td>\n",
       "      <td>NYG</td>\n",
       "      <td>OLB</td>\n",
       "      <td>Active</td>\n",
       "      <td>6'3\"</td>\n",
       "      <td>260</td>\n",
       "      <td>Holy Cross</td>\n",
       "      <td>1</td>\n",
       "      <td>DEF</td>\n",
       "      <td>24.00</td>\n",
       "      <td>2nd Season</td>\n",
       "      <td>6</td>\n",
       "      <td>3</td>\n",
       "      <td>0.00</td>\n",
       "      <td>0</td>\n",
       "      <td>0.00</td>\n",
       "      <td>0.00</td>\n",
       "      <td>0</td>\n",
       "      <td>0.00</td>\n",
       "      <td>0.00</td>\n",
       "      <td>0.00</td>\n",
       "      <td>0</td>\n",
       "      <td>0.00</td>\n",
       "      <td>0.00</td>\n",
       "      <td>0.00</td>\n",
       "      <td>0.00</td>\n",
       "      <td>0.00</td>\n",
       "    </tr>\n",
       "    <tr>\n",
       "      <th>145</th>\n",
       "      <td>NaN</td>\n",
       "      <td>PIT</td>\n",
       "      <td>LB</td>\n",
       "      <td>Active</td>\n",
       "      <td>6'2\"</td>\n",
       "      <td>237</td>\n",
       "      <td>Stanford</td>\n",
       "      <td>3</td>\n",
       "      <td>DEF</td>\n",
       "      <td>29.00</td>\n",
       "      <td>7th Season</td>\n",
       "      <td>6</td>\n",
       "      <td>2</td>\n",
       "      <td>0.00</td>\n",
       "      <td>0</td>\n",
       "      <td>0.00</td>\n",
       "      <td>0.00</td>\n",
       "      <td>0</td>\n",
       "      <td>0.00</td>\n",
       "      <td>0.00</td>\n",
       "      <td>0.00</td>\n",
       "      <td>0</td>\n",
       "      <td>0.00</td>\n",
       "      <td>0.00</td>\n",
       "      <td>2.00</td>\n",
       "      <td>2.00</td>\n",
       "      <td>4.00</td>\n",
       "    </tr>\n",
       "    <tr>\n",
       "      <th>202</th>\n",
       "      <td>NaN</td>\n",
       "      <td>DAL</td>\n",
       "      <td>ILB</td>\n",
       "      <td>Active</td>\n",
       "      <td>6'2\"</td>\n",
       "      <td>232</td>\n",
       "      <td>Alabama</td>\n",
       "      <td>3</td>\n",
       "      <td>DEF</td>\n",
       "      <td>28.00</td>\n",
       "      <td>6th Season</td>\n",
       "      <td>6</td>\n",
       "      <td>2</td>\n",
       "      <td>0.00</td>\n",
       "      <td>0</td>\n",
       "      <td>0.00</td>\n",
       "      <td>0.00</td>\n",
       "      <td>0</td>\n",
       "      <td>0.00</td>\n",
       "      <td>0.00</td>\n",
       "      <td>0.00</td>\n",
       "      <td>0</td>\n",
       "      <td>0.00</td>\n",
       "      <td>0.00</td>\n",
       "      <td>2.00</td>\n",
       "      <td>4.00</td>\n",
       "      <td>6.00</td>\n",
       "    </tr>\n",
       "    <tr>\n",
       "      <th>399</th>\n",
       "      <td>NaN</td>\n",
       "      <td>LAC</td>\n",
       "      <td>OLB</td>\n",
       "      <td>Active</td>\n",
       "      <td>6'4\"</td>\n",
       "      <td>250</td>\n",
       "      <td>Lane College</td>\n",
       "      <td>0</td>\n",
       "      <td>DEF</td>\n",
       "      <td>23.00</td>\n",
       "      <td>Rookie</td>\n",
       "      <td>6</td>\n",
       "      <td>4</td>\n",
       "      <td>0.00</td>\n",
       "      <td>0</td>\n",
       "      <td>0.00</td>\n",
       "      <td>0.00</td>\n",
       "      <td>0</td>\n",
       "      <td>0.00</td>\n",
       "      <td>0.00</td>\n",
       "      <td>0.00</td>\n",
       "      <td>0</td>\n",
       "      <td>0.00</td>\n",
       "      <td>0.00</td>\n",
       "      <td>0.00</td>\n",
       "      <td>1.00</td>\n",
       "      <td>1.00</td>\n",
       "    </tr>\n",
       "    <tr>\n",
       "      <th>456</th>\n",
       "      <td>NaN</td>\n",
       "      <td>JAX</td>\n",
       "      <td>DL</td>\n",
       "      <td>Active</td>\n",
       "      <td>6'3\"</td>\n",
       "      <td>299</td>\n",
       "      <td>Arkansas</td>\n",
       "      <td>1</td>\n",
       "      <td>DEF</td>\n",
       "      <td>29.00</td>\n",
       "      <td>3rd Season</td>\n",
       "      <td>6</td>\n",
       "      <td>3</td>\n",
       "      <td>0.00</td>\n",
       "      <td>0</td>\n",
       "      <td>0.00</td>\n",
       "      <td>0.00</td>\n",
       "      <td>0</td>\n",
       "      <td>0.00</td>\n",
       "      <td>0.00</td>\n",
       "      <td>0.00</td>\n",
       "      <td>0</td>\n",
       "      <td>0.00</td>\n",
       "      <td>0.00</td>\n",
       "      <td>3.00</td>\n",
       "      <td>12.00</td>\n",
       "      <td>15.00</td>\n",
       "    </tr>\n",
       "    <tr>\n",
       "      <th>724</th>\n",
       "      <td>NaN</td>\n",
       "      <td>DAL</td>\n",
       "      <td>DE</td>\n",
       "      <td>Active</td>\n",
       "      <td>6'2\"</td>\n",
       "      <td>260</td>\n",
       "      <td>Mississippi State</td>\n",
       "      <td>0</td>\n",
       "      <td>DEF</td>\n",
       "      <td>24.00</td>\n",
       "      <td>Rookie</td>\n",
       "      <td>6</td>\n",
       "      <td>2</td>\n",
       "      <td>0.00</td>\n",
       "      <td>0</td>\n",
       "      <td>0.00</td>\n",
       "      <td>0.00</td>\n",
       "      <td>0</td>\n",
       "      <td>0.00</td>\n",
       "      <td>0.00</td>\n",
       "      <td>0.00</td>\n",
       "      <td>0</td>\n",
       "      <td>0.00</td>\n",
       "      <td>0.00</td>\n",
       "      <td>2.00</td>\n",
       "      <td>0.00</td>\n",
       "      <td>2.00</td>\n",
       "    </tr>\n",
       "  </tbody>\n",
       "</table>\n",
       "</div>"
      ],
      "text/plain": [
       "    Salary Team Position  Status Height  Weight            College  Experience PositionCategory   Age ExperienceString  HeightFeet  HeightInches  CMP% PassingYards  PassingYardsPerGame  PassingTouchDowns RecievingYards  AvgRecievingYards  ReceivingTouchdowns  RecievingYardsPerGame RushingYards  RushingTouchDowns  RushingYardsPerGame  SoloTackles  AssistedTackles  TotalTackles\n",
       "61     NaN  NYG      OLB  Active   6'3\"     260         Holy Cross           1              DEF 24.00       2nd Season           6             3  0.00            0                 0.00               0.00              0               0.00                 0.00                   0.00            0               0.00                 0.00         0.00             0.00          0.00\n",
       "145    NaN  PIT       LB  Active   6'2\"     237           Stanford           3              DEF 29.00       7th Season           6             2  0.00            0                 0.00               0.00              0               0.00                 0.00                   0.00            0               0.00                 0.00         2.00             2.00          4.00\n",
       "202    NaN  DAL      ILB  Active   6'2\"     232            Alabama           3              DEF 28.00       6th Season           6             2  0.00            0                 0.00               0.00              0               0.00                 0.00                   0.00            0               0.00                 0.00         2.00             4.00          6.00\n",
       "399    NaN  LAC      OLB  Active   6'4\"     250       Lane College           0              DEF 23.00           Rookie           6             4  0.00            0                 0.00               0.00              0               0.00                 0.00                   0.00            0               0.00                 0.00         0.00             1.00          1.00\n",
       "456    NaN  JAX       DL  Active   6'3\"     299           Arkansas           1              DEF 29.00       3rd Season           6             3  0.00            0                 0.00               0.00              0               0.00                 0.00                   0.00            0               0.00                 0.00         3.00            12.00         15.00\n",
       "724    NaN  DAL       DE  Active   6'2\"     260  Mississippi State           0              DEF 24.00           Rookie           6             2  0.00            0                 0.00               0.00              0               0.00                 0.00                   0.00            0               0.00                 0.00         2.00             0.00          2.00"
      ]
     },
     "execution_count": 2643,
     "metadata": {},
     "output_type": "execute_result"
    }
   ],
   "source": [
    "df[pd.isna(df['Salary'])]"
   ]
  },
  {
   "cell_type": "code",
   "execution_count": 2644,
   "metadata": {},
   "outputs": [
    {
     "name": "stdout",
     "output_type": "stream",
     "text": [
      "Salary                   0\n",
      "Team                     0\n",
      "Position                 0\n",
      "Status                   0\n",
      "Height                   0\n",
      "Weight                   0\n",
      "College                  0\n",
      "Experience               0\n",
      "PositionCategory         0\n",
      "Age                      0\n",
      "ExperienceString         0\n",
      "HeightFeet               0\n",
      "HeightInches             0\n",
      "CMP%                     0\n",
      "PassingYards             0\n",
      "PassingYardsPerGame      0\n",
      "PassingTouchDowns        0\n",
      "RecievingYards           0\n",
      "AvgRecievingYards        0\n",
      "ReceivingTouchdowns      0\n",
      "RecievingYardsPerGame    0\n",
      "RushingYards             0\n",
      "RushingTouchDowns        0\n",
      "RushingYardsPerGame      0\n",
      "SoloTackles              0\n",
      "AssistedTackles          0\n",
      "TotalTackles             0\n",
      "dtype: int64\n"
     ]
    }
   ],
   "source": [
    "df = df.dropna(subset=['Salary'])\n",
    "df['College'] = df['College'].fillna('None')\n",
    "nan_df = df.isna()\n",
    "print(df.isnull().sum())"
   ]
  },
  {
   "cell_type": "markdown",
   "metadata": {},
   "source": [
    "Now we will make changes to the value types of each column to reflect the values they hold. This will allow us to manipulate the data in proper ways."
   ]
  },
  {
   "cell_type": "code",
   "execution_count": 2645,
   "metadata": {},
   "outputs": [
    {
     "data": {
      "text/plain": [
       "Salary                    object\n",
       "Team                      object\n",
       "Position                  object\n",
       "Status                    object\n",
       "Height                    object\n",
       "Weight                     int64\n",
       "College                   object\n",
       "Experience                 int64\n",
       "PositionCategory          object\n",
       "Age                      float64\n",
       "ExperienceString          object\n",
       "HeightFeet                 int64\n",
       "HeightInches               int64\n",
       "CMP%                     float64\n",
       "PassingYards              object\n",
       "PassingYardsPerGame      float64\n",
       "PassingTouchDowns        float64\n",
       "RecievingYards            object\n",
       "AvgRecievingYards        float64\n",
       "ReceivingTouchdowns      float64\n",
       "RecievingYardsPerGame    float64\n",
       "RushingYards              object\n",
       "RushingTouchDowns        float64\n",
       "RushingYardsPerGame      float64\n",
       "SoloTackles              float64\n",
       "AssistedTackles          float64\n",
       "TotalTackles             float64\n",
       "dtype: object"
      ]
     },
     "execution_count": 2645,
     "metadata": {},
     "output_type": "execute_result"
    }
   ],
   "source": [
    "df.dtypes"
   ]
  },
  {
   "cell_type": "code",
   "execution_count": 2646,
   "metadata": {},
   "outputs": [
    {
     "data": {
      "text/plain": [
       "Salary                     object\n",
       "Team                     category\n",
       "Position                 category\n",
       "Status                   category\n",
       "Height                     object\n",
       "Weight                      int32\n",
       "College                  category\n",
       "Experience                  int64\n",
       "PositionCategory         category\n",
       "Age                         int32\n",
       "ExperienceString           object\n",
       "HeightFeet                  int64\n",
       "HeightInches                int64\n",
       "CMP%                      float64\n",
       "PassingYards               object\n",
       "PassingYardsPerGame       float64\n",
       "PassingTouchDowns         float64\n",
       "RecievingYards              int32\n",
       "AvgRecievingYards         float64\n",
       "ReceivingTouchdowns       float64\n",
       "RecievingYardsPerGame     float64\n",
       "RushingYards                int32\n",
       "RushingTouchDowns         float64\n",
       "RushingYardsPerGame       float64\n",
       "SoloTackles               float64\n",
       "AssistedTackles           float64\n",
       "TotalTackles              float64\n",
       "dtype: object"
      ]
     },
     "execution_count": 2646,
     "metadata": {},
     "output_type": "execute_result"
    }
   ],
   "source": [
    "df['Team'] = df['Team'].astype('category')\n",
    "df['Position'] = df['Position'].astype('category')\n",
    "df['Status'] = df['Status'].astype('category')\n",
    "df['Weight'] = df['Weight'].astype(int)\n",
    "df['College'] = df['College'].astype('category')\n",
    "df['PositionCategory'] = df['PositionCategory'].astype('category')\n",
    "df['Age'] = df['Age'].astype(int)\n",
    "df['RecievingYards'] = df['RecievingYards'].astype(int)\n",
    "df['RushingYards'] = df['RushingYards'].astype(int)\n",
    "df.dtypes\n"
   ]
  },
  {
   "cell_type": "markdown",
   "metadata": {},
   "source": [
    "Salary is currently a string and contains dollar signs and commas, we will remove those change the datatype."
   ]
  },
  {
   "cell_type": "code",
   "execution_count": 2647,
   "metadata": {},
   "outputs": [
    {
     "name": "stdout",
     "output_type": "stream",
     "text": [
      "0      1215000\n",
      "1      9625000\n",
      "2      1876593\n",
      "3      1147108\n",
      "4      4500000\n",
      "        ...   \n",
      "775    1260090\n",
      "776    1933913\n",
      "777     902677\n",
      "778    6500000\n",
      "779    2500000\n",
      "Name: Salary, Length: 770, dtype: int32\n"
     ]
    }
   ],
   "source": [
    "df['Salary'] = df['Salary'].str.replace('$', '')\n",
    "df['Salary'] = df['Salary'].str.replace(',', '')\n",
    "df['Salary'] = df['Salary'].astype(int)\n",
    "print(df['Salary'])"
   ]
  },
  {
   "cell_type": "markdown",
   "metadata": {},
   "source": [
    "Height is currently defined in 2 columns, Feet and Inches. To make the model interpret this better, we will convert Feet to inches and add this to the Inches column and create a new Height column. "
   ]
  },
  {
   "cell_type": "code",
   "execution_count": 2648,
   "metadata": {},
   "outputs": [],
   "source": [
    "df[\"Height\"] = df[\"HeightFeet\"]*12 + df['HeightInches']\n",
    "df = df.drop(['HeightFeet', 'HeightInches'], axis=1)"
   ]
  },
  {
   "cell_type": "code",
   "execution_count": 2649,
   "metadata": {},
   "outputs": [
    {
     "data": {
      "text/plain": [
       "Salary                      int32\n",
       "Team                     category\n",
       "Position                 category\n",
       "Status                   category\n",
       "Height                      int64\n",
       "Weight                      int32\n",
       "College                  category\n",
       "Experience                  int64\n",
       "PositionCategory         category\n",
       "Age                         int32\n",
       "ExperienceString           object\n",
       "CMP%                      float64\n",
       "PassingYards               object\n",
       "PassingYardsPerGame       float64\n",
       "PassingTouchDowns         float64\n",
       "RecievingYards              int32\n",
       "AvgRecievingYards         float64\n",
       "ReceivingTouchdowns       float64\n",
       "RecievingYardsPerGame     float64\n",
       "RushingYards                int32\n",
       "RushingTouchDowns         float64\n",
       "RushingYardsPerGame       float64\n",
       "SoloTackles               float64\n",
       "AssistedTackles           float64\n",
       "TotalTackles              float64\n",
       "dtype: object"
      ]
     },
     "execution_count": 2649,
     "metadata": {},
     "output_type": "execute_result"
    }
   ],
   "source": [
    "df.dtypes"
   ]
  },
  {
   "cell_type": "markdown",
   "metadata": {},
   "source": [
    "The Experience String column contains the number of seasons the player has in the league and is currently a string. Looking more into the data, the column contains a number and a string, we can extract this number and create a new column, Experience. We do also see a \"Rookie\" category, this we can convert to a 0 meaning the player has is in their 1st year in the league."
   ]
  },
  {
   "cell_type": "code",
   "execution_count": 2650,
   "metadata": {},
   "outputs": [
    {
     "data": {
      "text/plain": [
       "0     4th Season\n",
       "1    11th Season\n",
       "2     2nd Season\n",
       "3     4th Season\n",
       "4     7th Season\n",
       "5     6th Season\n",
       "6     3rd Season\n",
       "7     7th Season\n",
       "8     4th Season\n",
       "9     6th Season\n",
       "Name: ExperienceString, dtype: object"
      ]
     },
     "execution_count": 2650,
     "metadata": {},
     "output_type": "execute_result"
    }
   ],
   "source": [
    "df['ExperienceString'].head(10)"
   ]
  },
  {
   "cell_type": "code",
   "execution_count": 2651,
   "metadata": {},
   "outputs": [
    {
     "data": {
      "text/plain": [
       "array([ 4, 11,  2,  7,  6,  3,  9,  5,  8,  1, 12, 10, 13, 16, 14])"
      ]
     },
     "execution_count": 2651,
     "metadata": {},
     "output_type": "execute_result"
    }
   ],
   "source": [
    "df['Experience'] = df['ExperienceString'].str.extract('(\\d+)')\n",
    "df = df.drop('ExperienceString', axis=1)\n",
    "df['Experience'] = df['Experience'].fillna(1).astype(int)\n",
    "df['Experience'].unique()"
   ]
  },
  {
   "cell_type": "markdown",
   "metadata": {},
   "source": [
    "Validate our data entries by checking number of unique values on each column"
   ]
  },
  {
   "cell_type": "code",
   "execution_count": 2652,
   "metadata": {},
   "outputs": [
    {
     "data": {
      "text/plain": [
       "Salary                   467\n",
       "Team                      32\n",
       "Position                  17\n",
       "Status                     4\n",
       "Height                    13\n",
       "Weight                   150\n",
       "College                  176\n",
       "Experience                15\n",
       "PositionCategory           2\n",
       "Age                       19\n",
       "CMP%                       1\n",
       "PassingYards               1\n",
       "PassingYardsPerGame        1\n",
       "PassingTouchDowns          1\n",
       "RecievingYards             5\n",
       "AvgRecievingYards          5\n",
       "ReceivingTouchdowns        3\n",
       "RecievingYardsPerGame      5\n",
       "RushingYards               6\n",
       "RushingTouchDowns          1\n",
       "RushingYardsPerGame        6\n",
       "SoloTackles               70\n",
       "AssistedTackles           51\n",
       "TotalTackles             105\n",
       "dtype: int64"
      ]
     },
     "execution_count": 2652,
     "metadata": {},
     "output_type": "execute_result"
    }
   ],
   "source": [
    "df.nunique(axis=0)"
   ]
  },
  {
   "cell_type": "markdown",
   "metadata": {},
   "source": [
    "The statistics seem suspicious when they should be unique for each player."
   ]
  },
  {
   "cell_type": "code",
   "execution_count": 2653,
   "metadata": {},
   "outputs": [
    {
     "name": "stdout",
     "output_type": "stream",
     "text": [
      "CMP% [0.]\n",
      "PassingYards [0]\n",
      "PassingYardsPerGame [0.]\n",
      "PassingTouchDowns [0.]\n",
      "RecievingYards [  0   2  18 422  83]\n",
      "AvgRecievingYards [ 0.   2.  18.  15.1  4.4]\n",
      "ReceivingTouchdowns [0. 1. 5.]\n",
      "RecievingYardsPerGame [ 0.   0.2  2.  46.9  7.5]\n",
      "RushingYards [ 0  2 11  4  3 82]\n",
      "RushingTouchDowns [0.]\n"
     ]
    }
   ],
   "source": [
    "cols = [\"CMP%\", \"PassingYards\", \"PassingYardsPerGame\", \"PassingTouchDowns\", \"RecievingYards\", \"AvgRecievingYards\", \"ReceivingTouchdowns\", \"RecievingYardsPerGame\", \"RushingYards\", \"RushingTouchDowns\"]\n",
    "for col in cols:\n",
    "    print(col, df[col].unique())"
   ]
  },
  {
   "cell_type": "markdown",
   "metadata": {},
   "source": [
    "After looking back at the data, some stats are only recorded for certain players based on what position they play. However, the lack of records for is still suspicous since more than 3 players have recieving touchdowns in the league. This may be a cause of an incomplete dataset.\n",
    "\n",
    "Though in this case where there are 0 entries for certain columns, we can drop these."
   ]
  },
  {
   "cell_type": "code",
   "execution_count": 2654,
   "metadata": {},
   "outputs": [],
   "source": [
    "cols_to_drop2 = [\"CMP%\", \"PassingYards\", \"PassingYardsPerGame\", \"PassingTouchDowns\", \"RushingTouchDowns\"]\n",
    "df = df.drop(cols_to_drop2, axis=1)"
   ]
  },
  {
   "cell_type": "code",
   "execution_count": 2655,
   "metadata": {},
   "outputs": [
    {
     "data": {
      "text/plain": [
       "Salary                      int32\n",
       "Team                     category\n",
       "Position                 category\n",
       "Status                   category\n",
       "Height                      int64\n",
       "Weight                      int32\n",
       "College                  category\n",
       "Experience                  int32\n",
       "PositionCategory         category\n",
       "Age                         int32\n",
       "RecievingYards              int32\n",
       "AvgRecievingYards         float64\n",
       "ReceivingTouchdowns       float64\n",
       "RecievingYardsPerGame     float64\n",
       "RushingYards                int32\n",
       "RushingYardsPerGame       float64\n",
       "SoloTackles               float64\n",
       "AssistedTackles           float64\n",
       "TotalTackles              float64\n",
       "dtype: object"
      ]
     },
     "execution_count": 2655,
     "metadata": {},
     "output_type": "execute_result"
    }
   ],
   "source": [
    "df.dtypes"
   ]
  },
  {
   "cell_type": "markdown",
   "metadata": {},
   "source": [
    "Step 6: Encoding\n",
    "\n",
    "Check which features are categorical that need to be converted to numbers and evaluate which method of encoding we should use."
   ]
  },
  {
   "cell_type": "code",
   "execution_count": 2656,
   "metadata": {},
   "outputs": [
    {
     "data": {
      "text/html": [
       "<div>\n",
       "<style scoped>\n",
       "    .dataframe tbody tr th:only-of-type {\n",
       "        vertical-align: middle;\n",
       "    }\n",
       "\n",
       "    .dataframe tbody tr th {\n",
       "        vertical-align: top;\n",
       "    }\n",
       "\n",
       "    .dataframe thead th {\n",
       "        text-align: right;\n",
       "    }\n",
       "</style>\n",
       "<table border=\"1\" class=\"dataframe\">\n",
       "  <thead>\n",
       "    <tr style=\"text-align: right;\">\n",
       "      <th></th>\n",
       "      <th>Team</th>\n",
       "      <th>Position</th>\n",
       "      <th>Status</th>\n",
       "      <th>College</th>\n",
       "      <th>PositionCategory</th>\n",
       "    </tr>\n",
       "  </thead>\n",
       "  <tbody>\n",
       "    <tr>\n",
       "      <th>0</th>\n",
       "      <td>CIN</td>\n",
       "      <td>CB</td>\n",
       "      <td>Active</td>\n",
       "      <td>Utah State</td>\n",
       "      <td>DEF</td>\n",
       "    </tr>\n",
       "    <tr>\n",
       "      <th>1</th>\n",
       "      <td>BUF</td>\n",
       "      <td>S</td>\n",
       "      <td>Active</td>\n",
       "      <td>Iowa</td>\n",
       "      <td>DEF</td>\n",
       "    </tr>\n",
       "    <tr>\n",
       "      <th>2</th>\n",
       "      <td>WAS</td>\n",
       "      <td>DT</td>\n",
       "      <td>Active</td>\n",
       "      <td>Alabama</td>\n",
       "      <td>DEF</td>\n",
       "    </tr>\n",
       "    <tr>\n",
       "      <th>3</th>\n",
       "      <td>CLE</td>\n",
       "      <td>DT</td>\n",
       "      <td>Active</td>\n",
       "      <td>Missouri</td>\n",
       "      <td>DEF</td>\n",
       "    </tr>\n",
       "    <tr>\n",
       "      <th>4</th>\n",
       "      <td>NE</td>\n",
       "      <td>DB</td>\n",
       "      <td>Active</td>\n",
       "      <td>Michigan</td>\n",
       "      <td>DEF</td>\n",
       "    </tr>\n",
       "    <tr>\n",
       "      <th>...</th>\n",
       "      <td>...</td>\n",
       "      <td>...</td>\n",
       "      <td>...</td>\n",
       "      <td>...</td>\n",
       "      <td>...</td>\n",
       "    </tr>\n",
       "    <tr>\n",
       "      <th>775</th>\n",
       "      <td>NO</td>\n",
       "      <td>CB</td>\n",
       "      <td>Active</td>\n",
       "      <td>Stanford</td>\n",
       "      <td>DEF</td>\n",
       "    </tr>\n",
       "    <tr>\n",
       "      <th>776</th>\n",
       "      <td>DET</td>\n",
       "      <td>DL</td>\n",
       "      <td>Active</td>\n",
       "      <td>Kentucky</td>\n",
       "      <td>DEF</td>\n",
       "    </tr>\n",
       "    <tr>\n",
       "      <th>777</th>\n",
       "      <td>DAL</td>\n",
       "      <td>S</td>\n",
       "      <td>Active</td>\n",
       "      <td>South Carolina</td>\n",
       "      <td>DEF</td>\n",
       "    </tr>\n",
       "    <tr>\n",
       "      <th>778</th>\n",
       "      <td>HOU</td>\n",
       "      <td>S</td>\n",
       "      <td>Active</td>\n",
       "      <td>Northern Illinois</td>\n",
       "      <td>DEF</td>\n",
       "    </tr>\n",
       "    <tr>\n",
       "      <th>779</th>\n",
       "      <td>WAS</td>\n",
       "      <td>CB</td>\n",
       "      <td>Active</td>\n",
       "      <td>Southern</td>\n",
       "      <td>DEF</td>\n",
       "    </tr>\n",
       "  </tbody>\n",
       "</table>\n",
       "<p>770 rows × 5 columns</p>\n",
       "</div>"
      ],
      "text/plain": [
       "    Team Position  Status            College PositionCategory\n",
       "0    CIN       CB  Active         Utah State              DEF\n",
       "1    BUF        S  Active               Iowa              DEF\n",
       "2    WAS       DT  Active            Alabama              DEF\n",
       "3    CLE       DT  Active           Missouri              DEF\n",
       "4     NE       DB  Active           Michigan              DEF\n",
       "..   ...      ...     ...                ...              ...\n",
       "775   NO       CB  Active           Stanford              DEF\n",
       "776  DET       DL  Active           Kentucky              DEF\n",
       "777  DAL        S  Active     South Carolina              DEF\n",
       "778  HOU        S  Active  Northern Illinois              DEF\n",
       "779  WAS       CB  Active           Southern              DEF\n",
       "\n",
       "[770 rows x 5 columns]"
      ]
     },
     "execution_count": 2656,
     "metadata": {},
     "output_type": "execute_result"
    }
   ],
   "source": [
    "df.select_dtypes(include='category')"
   ]
  },
  {
   "cell_type": "code",
   "execution_count": 2657,
   "metadata": {},
   "outputs": [
    {
     "data": {
      "text/plain": [
       "['DEF', 'OFF']\n",
       "Categories (2, object): ['DEF', 'OFF']"
      ]
     },
     "execution_count": 2657,
     "metadata": {},
     "output_type": "execute_result"
    }
   ],
   "source": [
    "df['PositionCategory'].unique()"
   ]
  },
  {
   "cell_type": "markdown",
   "metadata": {},
   "source": [
    "Due to the binary representation of this feature, we can use label encoding, 0 for DEF and 1 for OFF"
   ]
  },
  {
   "cell_type": "code",
   "execution_count": 2658,
   "metadata": {},
   "outputs": [],
   "source": [
    "df['PositionCategory'] = df['PositionCategory'].replace('DEF', 0)\n",
    "df['PositionCategory'] = df['PositionCategory'].replace('OFF', 1)"
   ]
  },
  {
   "cell_type": "code",
   "execution_count": 2659,
   "metadata": {},
   "outputs": [
    {
     "data": {
      "text/plain": [
       "['Active', 'Injured Reserve', 'Non Football Injury', 'Suspended']\n",
       "Categories (4, object): ['Active', 'Injured Reserve', 'Non Football Injury', 'Suspended']"
      ]
     },
     "execution_count": 2659,
     "metadata": {},
     "output_type": "execute_result"
    }
   ],
   "source": [
    "df['Status'].unique()"
   ]
  },
  {
   "cell_type": "markdown",
   "metadata": {},
   "source": [
    "Use one hot-encoding as it will not create too many extra features"
   ]
  },
  {
   "cell_type": "code",
   "execution_count": 2660,
   "metadata": {},
   "outputs": [
    {
     "data": {
      "text/html": [
       "<div>\n",
       "<style scoped>\n",
       "    .dataframe tbody tr th:only-of-type {\n",
       "        vertical-align: middle;\n",
       "    }\n",
       "\n",
       "    .dataframe tbody tr th {\n",
       "        vertical-align: top;\n",
       "    }\n",
       "\n",
       "    .dataframe thead th {\n",
       "        text-align: right;\n",
       "    }\n",
       "</style>\n",
       "<table border=\"1\" class=\"dataframe\">\n",
       "  <thead>\n",
       "    <tr style=\"text-align: right;\">\n",
       "      <th></th>\n",
       "      <th>Salary</th>\n",
       "      <th>Team</th>\n",
       "      <th>Position</th>\n",
       "      <th>Height</th>\n",
       "      <th>Weight</th>\n",
       "      <th>College</th>\n",
       "      <th>Experience</th>\n",
       "      <th>PositionCategory</th>\n",
       "      <th>Age</th>\n",
       "      <th>RecievingYards</th>\n",
       "      <th>AvgRecievingYards</th>\n",
       "      <th>ReceivingTouchdowns</th>\n",
       "      <th>RecievingYardsPerGame</th>\n",
       "      <th>RushingYards</th>\n",
       "      <th>RushingYardsPerGame</th>\n",
       "      <th>SoloTackles</th>\n",
       "      <th>AssistedTackles</th>\n",
       "      <th>TotalTackles</th>\n",
       "      <th>Active</th>\n",
       "      <th>Injured Reserve</th>\n",
       "      <th>Non Football Injury</th>\n",
       "      <th>Suspended</th>\n",
       "    </tr>\n",
       "  </thead>\n",
       "  <tbody>\n",
       "    <tr>\n",
       "      <th>0</th>\n",
       "      <td>1215000</td>\n",
       "      <td>CIN</td>\n",
       "      <td>CB</td>\n",
       "      <td>70</td>\n",
       "      <td>190</td>\n",
       "      <td>Utah State</td>\n",
       "      <td>4</td>\n",
       "      <td>0</td>\n",
       "      <td>27</td>\n",
       "      <td>0</td>\n",
       "      <td>0.00</td>\n",
       "      <td>0.00</td>\n",
       "      <td>0.00</td>\n",
       "      <td>0</td>\n",
       "      <td>0.00</td>\n",
       "      <td>2.00</td>\n",
       "      <td>1.00</td>\n",
       "      <td>3.00</td>\n",
       "      <td>True</td>\n",
       "      <td>False</td>\n",
       "      <td>False</td>\n",
       "      <td>False</td>\n",
       "    </tr>\n",
       "    <tr>\n",
       "      <th>1</th>\n",
       "      <td>9625000</td>\n",
       "      <td>BUF</td>\n",
       "      <td>S</td>\n",
       "      <td>72</td>\n",
       "      <td>197</td>\n",
       "      <td>Iowa</td>\n",
       "      <td>11</td>\n",
       "      <td>0</td>\n",
       "      <td>32</td>\n",
       "      <td>0</td>\n",
       "      <td>0.00</td>\n",
       "      <td>0.00</td>\n",
       "      <td>0.00</td>\n",
       "      <td>0</td>\n",
       "      <td>0.00</td>\n",
       "      <td>32.00</td>\n",
       "      <td>12.00</td>\n",
       "      <td>44.00</td>\n",
       "      <td>True</td>\n",
       "      <td>False</td>\n",
       "      <td>False</td>\n",
       "      <td>False</td>\n",
       "    </tr>\n",
       "    <tr>\n",
       "      <th>2</th>\n",
       "      <td>1876593</td>\n",
       "      <td>WAS</td>\n",
       "      <td>DT</td>\n",
       "      <td>76</td>\n",
       "      <td>312</td>\n",
       "      <td>Alabama</td>\n",
       "      <td>2</td>\n",
       "      <td>0</td>\n",
       "      <td>25</td>\n",
       "      <td>0</td>\n",
       "      <td>0.00</td>\n",
       "      <td>0.00</td>\n",
       "      <td>0.00</td>\n",
       "      <td>0</td>\n",
       "      <td>0.00</td>\n",
       "      <td>1.00</td>\n",
       "      <td>2.00</td>\n",
       "      <td>3.00</td>\n",
       "      <td>True</td>\n",
       "      <td>False</td>\n",
       "      <td>False</td>\n",
       "      <td>False</td>\n",
       "    </tr>\n",
       "    <tr>\n",
       "      <th>3</th>\n",
       "      <td>1147108</td>\n",
       "      <td>CLE</td>\n",
       "      <td>DT</td>\n",
       "      <td>76</td>\n",
       "      <td>303</td>\n",
       "      <td>Missouri</td>\n",
       "      <td>4</td>\n",
       "      <td>0</td>\n",
       "      <td>26</td>\n",
       "      <td>0</td>\n",
       "      <td>0.00</td>\n",
       "      <td>0.00</td>\n",
       "      <td>0.00</td>\n",
       "      <td>0</td>\n",
       "      <td>0.00</td>\n",
       "      <td>11.00</td>\n",
       "      <td>5.00</td>\n",
       "      <td>16.00</td>\n",
       "      <td>True</td>\n",
       "      <td>False</td>\n",
       "      <td>False</td>\n",
       "      <td>False</td>\n",
       "    </tr>\n",
       "    <tr>\n",
       "      <th>4</th>\n",
       "      <td>4500000</td>\n",
       "      <td>NE</td>\n",
       "      <td>DB</td>\n",
       "      <td>71</td>\n",
       "      <td>217</td>\n",
       "      <td>Michigan</td>\n",
       "      <td>7</td>\n",
       "      <td>0</td>\n",
       "      <td>28</td>\n",
       "      <td>0</td>\n",
       "      <td>0.00</td>\n",
       "      <td>0.00</td>\n",
       "      <td>0.00</td>\n",
       "      <td>0</td>\n",
       "      <td>0.00</td>\n",
       "      <td>46.00</td>\n",
       "      <td>23.00</td>\n",
       "      <td>69.00</td>\n",
       "      <td>True</td>\n",
       "      <td>False</td>\n",
       "      <td>False</td>\n",
       "      <td>False</td>\n",
       "    </tr>\n",
       "  </tbody>\n",
       "</table>\n",
       "</div>"
      ],
      "text/plain": [
       "    Salary Team Position  Height  Weight     College  Experience PositionCategory  Age  RecievingYards  AvgRecievingYards  ReceivingTouchdowns  RecievingYardsPerGame  RushingYards  RushingYardsPerGame  SoloTackles  AssistedTackles  TotalTackles  Active  Injured Reserve  Non Football Injury  Suspended\n",
       "0  1215000  CIN       CB      70     190  Utah State           4                0   27               0               0.00                 0.00                   0.00             0                 0.00         2.00             1.00          3.00    True            False                False      False\n",
       "1  9625000  BUF        S      72     197        Iowa          11                0   32               0               0.00                 0.00                   0.00             0                 0.00        32.00            12.00         44.00    True            False                False      False\n",
       "2  1876593  WAS       DT      76     312     Alabama           2                0   25               0               0.00                 0.00                   0.00             0                 0.00         1.00             2.00          3.00    True            False                False      False\n",
       "3  1147108  CLE       DT      76     303    Missouri           4                0   26               0               0.00                 0.00                   0.00             0                 0.00        11.00             5.00         16.00    True            False                False      False\n",
       "4  4500000   NE       DB      71     217    Michigan           7                0   28               0               0.00                 0.00                   0.00             0                 0.00        46.00            23.00         69.00    True            False                False      False"
      ]
     },
     "execution_count": 2660,
     "metadata": {},
     "output_type": "execute_result"
    }
   ],
   "source": [
    "df_status = pd.get_dummies(df['Status'])\n",
    "df = df.join(df_status)\n",
    "df = df.drop('Status', axis=1)\n",
    "df.head()\n"
   ]
  },
  {
   "cell_type": "markdown",
   "metadata": {},
   "source": [
    "Remove the spaces in the column names created by the get_dummies function.\n",
    "\n",
    "And convert the boolean values to integers"
   ]
  },
  {
   "cell_type": "code",
   "execution_count": 2661,
   "metadata": {},
   "outputs": [],
   "source": [
    "df.columns = df.columns.str.replace(' ', '') "
   ]
  },
  {
   "cell_type": "markdown",
   "metadata": {},
   "source": [
    "Distribution of Positions"
   ]
  },
  {
   "cell_type": "code",
   "execution_count": 2662,
   "metadata": {},
   "outputs": [
    {
     "data": {
      "image/png": "[encoded data removed]",
      "text/plain": [
       "<Figure size 640x480 with 1 Axes>"
      ]
     },
     "metadata": {},
     "output_type": "display_data"
    }
   ],
   "source": [
    "freq = df[\"Position\"].value_counts(sort=True)\n",
    "ax = freq.plot.bar()\n",
    "ax.set_title('Frequency of Position')\n",
    "ax.set_xlabel(\"Position\")\n",
    "ax.set_ylabel(\"Count\")\n",
    "plt.show()"
   ]
  },
  {
   "cell_type": "markdown",
   "metadata": {},
   "source": [
    "Due to the larger number of unique values in these categorical features, we will use Label Encoding to convert the category values to numbers"
   ]
  },
  {
   "cell_type": "code",
   "execution_count": 2663,
   "metadata": {},
   "outputs": [
    {
     "name": "stdout",
     "output_type": "stream",
     "text": [
      "0       6\n",
      "1       3\n",
      "2      31\n",
      "3       7\n",
      "4      21\n",
      "       ..\n",
      "775    22\n",
      "776    10\n",
      "777     8\n",
      "778    12\n",
      "779    31\n",
      "Name: Team, Length: 770, dtype: int32\n",
      "0       0\n",
      "1      13\n",
      "2       4\n",
      "3       4\n",
      "4       1\n",
      "       ..\n",
      "775     0\n",
      "776     3\n",
      "777    13\n",
      "778    13\n",
      "779     0\n",
      "Name: Position, Length: 770, dtype: int32\n",
      "0      156\n",
      "1       57\n",
      "2        0\n",
      "3       83\n",
      "4       77\n",
      "      ... \n",
      "775    133\n",
      "776     64\n",
      "777    124\n",
      "778     98\n",
      "779    129\n",
      "Name: College, Length: 770, dtype: int32\n"
     ]
    }
   ],
   "source": [
    "le = LabelEncoder()\n",
    "\n",
    "for col in ['Team', 'Position', 'College']:\n",
    "    df[col] = le.fit_transform(df[col])\n",
    "    print(df[col])"
   ]
  },
  {
   "cell_type": "markdown",
   "metadata": {},
   "source": [
    "Step 7: Visualizations - Exploratory Data Analysis"
   ]
  },
  {
   "cell_type": "code",
   "execution_count": 2664,
   "metadata": {},
   "outputs": [
    {
     "data": {
      "text/plain": [
       "<Axes: title={'center': 'Distribution of Salaries'}, xlabel='Salary (mil)', ylabel='Frequency'>"
      ]
     },
     "execution_count": 2664,
     "metadata": {},
     "output_type": "execute_result"
    },
    {
     "data": {
      "image/png": "[encoded data removed]",
      "text/plain": [
       "<Figure size 640x480 with 1 Axes>"
      ]
     },
     "metadata": {},
     "output_type": "display_data"
    }
   ],
   "source": [
    "df['Salary'].plot(kind='hist', bins=25, xlabel='Salary (mil)', title='Distribution of Salaries')"
   ]
  },
  {
   "cell_type": "markdown",
   "metadata": {},
   "source": [
    "Salary seems to be biased towards less than $500,000"
   ]
  },
  {
   "cell_type": "code",
   "execution_count": 2665,
   "metadata": {},
   "outputs": [
    {
     "data": {
      "image/png": "[encoded data removed]",
      "text/plain": [
       "<Figure size 640x480 with 1 Axes>"
      ]
     },
     "metadata": {},
     "output_type": "display_data"
    },
    {
     "data": {
      "image/png": "[encoded data removed]",
      "text/plain": [
       "<Figure size 640x480 with 1 Axes>"
      ]
     },
     "metadata": {},
     "output_type": "display_data"
    },
    {
     "data": {
      "image/png": "[encoded data removed]",
      "text/plain": [
       "<Figure size 640x480 with 1 Axes>"
      ]
     },
     "metadata": {},
     "output_type": "display_data"
    }
   ],
   "source": [
    "freq = df[\"Age\"].sort_values().value_counts(sort=False)\n",
    "ax = freq.plot.bar()\n",
    "ax.set_title('Frequency of Age')\n",
    "ax.set_xlabel(\"Age\")\n",
    "ax.set_ylabel(\"Count\")\n",
    "plt.show()\n",
    "\n",
    "freq = df[\"Experience\"].sort_values().value_counts(sort=False)\n",
    "ax = freq.plot.bar()\n",
    "ax.set_title('Frequency of Experience')\n",
    "ax.set_xlabel(\"Experience\")\n",
    "ax.set_ylabel(\"Count\")\n",
    "plt.show()\n",
    "\n",
    "freq = df[\"Height\"].sort_values().value_counts(sort=False)\n",
    "ax = freq.plot.bar()\n",
    "ax.set_title('Frequency of Height')\n",
    "ax.set_xlabel(\"Height\")\n",
    "ax.set_ylabel(\"Count\")\n",
    "plt.show()"
   ]
  },
  {
   "cell_type": "markdown",
   "metadata": {},
   "source": [
    "From these charts I see a skewed left distribution of age and experience which makes sense as newer players tend to replace older players. There is also a normal distribution of a players height."
   ]
  },
  {
   "cell_type": "code",
   "execution_count": 2666,
   "metadata": {},
   "outputs": [
    {
     "data": {
      "image/png": "[encoded data removed]",
      "text/plain": [
       "<Figure size 640x480 with 1 Axes>"
      ]
     },
     "metadata": {},
     "output_type": "display_data"
    },
    {
     "data": {
      "image/png": "[encoded data removed]",
      "text/plain": [
       "<Figure size 640x480 with 1 Axes>"
      ]
     },
     "metadata": {},
     "output_type": "display_data"
    },
    {
     "data": {
      "image/png": "[encoded data removed]",
      "text/plain": [
       "<Figure size 640x480 with 1 Axes>"
      ]
     },
     "metadata": {},
     "output_type": "display_data"
    },
    {
     "data": {
      "image/png": "[encoded data removed]",
      "text/plain": [
       "<Figure size 640x480 with 1 Axes>"
      ]
     },
     "metadata": {},
     "output_type": "display_data"
    },
    {
     "data": {
      "image/png": "[encoded data removed]",
      "text/plain": [
       "<Figure size 640x480 with 1 Axes>"
      ]
     },
     "metadata": {},
     "output_type": "display_data"
    },
    {
     "data": {
      "image/png": "[encoded data removed]",
      "text/plain": [
       "<Figure size 640x480 with 1 Axes>"
      ]
     },
     "metadata": {},
     "output_type": "display_data"
    }
   ],
   "source": [
    "plt.scatter(df['Experience'], df['Salary'])\n",
    "plt.title('Salary vs Experience')\n",
    "plt.xlabel('Experience (yrs)')\n",
    "plt.ylabel('Salary (mil)')\n",
    "plt.show()\n",
    "\n",
    "plt.scatter(df['Age'], df['Salary'])\n",
    "plt.title('Salary vs Age')\n",
    "plt.xlabel('Age (yrs)')\n",
    "plt.ylabel('Salary (mil)')\n",
    "plt.show()\n",
    "\n",
    "plt.scatter(df['TotalTackles'], df['Salary'])\n",
    "plt.title('Salary vs TotalTackles')\n",
    "plt.xlabel('TotalTackles')\n",
    "plt.ylabel('Salary (mil)')\n",
    "plt.show()\n",
    "\n",
    "plt.scatter(df['SoloTackles'], df['Salary'])\n",
    "plt.title('Salary vs SoloTackles')\n",
    "plt.xlabel('SoloTackles')\n",
    "plt.ylabel('Salary (mil)')\n",
    "plt.show()\n",
    "\n",
    "plt.scatter(df['Height'], df['Salary'])\n",
    "plt.title('Salary vs Height')\n",
    "plt.xlabel('Height (in)')\n",
    "plt.ylabel('Salary (mil)')\n",
    "plt.show()\n",
    "\n",
    "plt.scatter(df['Weight'], df['Salary'])\n",
    "plt.title('Salary vs Weight')\n",
    "plt.xlabel('Weight (lbs)')\n",
    "plt.ylabel('Salary (mil)')\n",
    "plt.show()"
   ]
  },
  {
   "cell_type": "markdown",
   "metadata": {},
   "source": [
    "From these charts, I can notice a normal distribution of salary vs age and experience with both of them seeming to be highly correlated to each other.\n",
    "\n",
    "However, I do not see a correlation between any of the stats and their salaries. This can be due to the data being biased to one type of position. Lets look into this:"
   ]
  },
  {
   "cell_type": "code",
   "execution_count": 2667,
   "metadata": {},
   "outputs": [
    {
     "data": {
      "image/png": "[encoded data removed]",
      "text/plain": [
       "<Figure size 640x480 with 1 Axes>"
      ]
     },
     "metadata": {},
     "output_type": "display_data"
    },
    {
     "name": "stdout",
     "output_type": "stream",
     "text": [
      "Number of Defense Players: 763\n",
      "Number of Offensive Players: 7\n"
     ]
    }
   ],
   "source": [
    "freq = df[\"PositionCategory\"].sort_values().value_counts(sort=False)\n",
    "ax = freq.plot.bar()\n",
    "ax.set_title('Frequency of PositionCategory')\n",
    "ax.set_xlabel(\"PositionCategory (0 = Defense, 1 = Offensive)\")\n",
    "ax.set_ylabel(\"Count\")\n",
    "plt.show()\n",
    "\n",
    "print('Number of Defense Players:', len(df[df['PositionCategory'] == 0]))\n",
    "print('Number of Offensive Players:', len(df[df['PositionCategory'] == 1]))"
   ]
  },
  {
   "cell_type": "code",
   "execution_count": 2668,
   "metadata": {},
   "outputs": [
    {
     "name": "stdout",
     "output_type": "stream",
     "text": [
      "      Salary  Team  Position  Height  Weight  College  Experience PositionCategory  Age  RecievingYards  AvgRecievingYards  ReceivingTouchdowns  RecievingYardsPerGame  RushingYards  RushingYardsPerGame  SoloTackles  AssistedTackles  TotalTackles  Active  InjuredReserve  NonFootballInjury  Suspended\n",
      "70   2667500    21        16      72     205      153          16                1   38               0               0.00                 0.00                   0.00             0                 0.00         2.00             1.00          3.00    True           False              False      False\n",
      "156   882500     6        11      77     312        0           5                1   26               0               0.00                 0.00                   0.00             0                 0.00        14.00            24.00         38.00    True           False              False      False\n",
      "174  2505000    18        12      71     220       81          11                1   33               0               0.00                 0.00                   0.00             0                 0.00         0.00             1.00          1.00    True           False              False      False\n",
      "228  2310258    11        16      76     208       96           2                1   24             422              15.10                 5.00                  46.90            11                 1.20         1.00             0.00          1.00    True           False              False      False\n",
      "421   832500    26        15      76     235      141           1                1   25               0               0.00                 0.00                   0.00             0                 0.00         3.00             1.00          4.00    True           False              False      False\n",
      "763  1499496    20         6      75     307       65           2                1   24               0               0.00                 0.00                   0.00             0                 0.00         1.00             0.00          1.00    True           False              False      False\n",
      "767   952232     0        12      68     201       94           3                1   24              83               4.40                 0.00                   7.50            82                 7.50         1.00             0.00          1.00    True           False              False      False\n"
     ]
    }
   ],
   "source": [
    "print(df[df['PositionCategory'] == 1])"
   ]
  },
  {
   "cell_type": "markdown",
   "metadata": {},
   "source": [
    "This is confirms the hypothesized bias. Though comparing the offensive players to the salary distribution chart may suggest that offensive players get paid more since all of these players are paid above the 500,000 with more than half of the population being above 1 million. "
   ]
  },
  {
   "cell_type": "markdown",
   "metadata": {},
   "source": [
    "To confirm or discover any other correlations, we can use a correlation heatmap."
   ]
  },
  {
   "cell_type": "code",
   "execution_count": 2669,
   "metadata": {},
   "outputs": [
    {
     "data": {
      "text/plain": [
       "<Axes: >"
      ]
     },
     "execution_count": 2669,
     "metadata": {},
     "output_type": "execute_result"
    },
    {
     "data": {
      "image/png": "[encoded data removed]",
      "text/plain": [
       "<Figure size 640x480 with 2 Axes>"
      ]
     },
     "metadata": {},
     "output_type": "display_data"
    }
   ],
   "source": [
    "sns.heatmap(df.corr())\n"
   ]
  },
  {
   "cell_type": "markdown",
   "metadata": {},
   "source": [
    "At this point, the collected data does not seem to show any strong correlations to the salary.\n",
    "\n",
    "The best path from here would be to find more data/revisit the collected data and look at how we can keep more data, or look for a different dataset. I have spent a good amount of time trying to fix the collected data, but due to time constraints, we will continue with the process. With this in mind, I do not expect the model to perform well.\n",
    "\n",
    "For the future, I would definitly look into gathering more historical data and increasing the size of the data."
   ]
  },
  {
   "cell_type": "markdown",
   "metadata": {},
   "source": [
    "Step 8: Splitting the Data"
   ]
  },
  {
   "cell_type": "code",
   "execution_count": 2670,
   "metadata": {},
   "outputs": [
    {
     "name": "stdout",
     "output_type": "stream",
     "text": [
      "(462, 21)\n",
      "(308, 21)\n",
      "(462,)\n",
      "(308,)\n"
     ]
    }
   ],
   "source": [
    "X = df.drop([\"Salary\"], axis=1)\n",
    "y = df[\"Salary\"]\n",
    "\n",
    "X_train, X_test, y_train, y_test = train_test_split(X, y, test_size=0.40, random_state=42, shuffle=True)\n",
    "print(X_train.shape)\n",
    "print(X_test.shape)\n",
    "print(y_train.shape)\n",
    "print(y_test.shape)"
   ]
  },
  {
   "cell_type": "markdown",
   "metadata": {},
   "source": [
    "Step 9: Scaling the Data\n",
    "\n",
    "In order to increase the performance of our model, we will scale the data which will also help make better predictions.\n",
    "\n",
    "We will scale all columns except the boolean/binary columns which are already scaled 0 and 1."
   ]
  },
  {
   "cell_type": "code",
   "execution_count": 2671,
   "metadata": {},
   "outputs": [
    {
     "name": "stdout",
     "output_type": "stream",
     "text": [
      "     Team  Position  Height  Weight  College  Experience PositionCategory  Age  RecievingYards  AvgRecievingYards  ReceivingTouchdowns  RecievingYardsPerGame  RushingYards  RushingYardsPerGame  SoloTackles  AssistedTackles  TotalTackles  Active  InjuredReserve  NonFootballInjury  Suspended\n",
      "488    11         3      75     296       14           1                0   23               0               0.00                 0.00                   0.00             0                 0.00         9.00             5.00         14.00    True           False              False      False\n",
      "717    10         8      72     240      114           3                0   24               0               0.00                 0.00                   0.00             0                 0.00        30.00            31.00         61.00    True           False              False      False\n",
      "9      15        13      73     207      133           6                0   26               0               0.00                 0.00                   0.00             0                 0.00        54.00            14.00         68.00    True           False              False      False\n",
      "253     0         3      74     291      136           5                0   28               0               0.00                 0.00                   0.00             0                 0.00         2.00             0.00          2.00   False            True              False      False\n",
      "22     10         3      73     335       81           3                0   26               0               0.00                 0.00                   0.00             0                 0.00         9.00             8.00         17.00    True           False              False      False\n",
      "Index(['Team', 'Position', 'Height', 'Weight', 'College', 'Experience', 'PositionCategory', 'Age', 'RecievingYards', 'AvgRecievingYards', 'ReceivingTouchdowns', 'RecievingYardsPerGame', 'RushingYards', 'RushingYardsPerGame', 'SoloTackles', 'AssistedTackles', 'TotalTackles', 'Active', 'InjuredReserve', 'NonFootballInjury', 'Suspended'], dtype='object')\n"
     ]
    }
   ],
   "source": [
    "print(X_train.head())\n",
    "print(X_train.columns)"
   ]
  },
  {
   "cell_type": "code",
   "execution_count": 2672,
   "metadata": {},
   "outputs": [
    {
     "name": "stdout",
     "output_type": "stream",
     "text": [
      "     Team Position Height Weight College Experience   Age AvgRecievingYards ReceivingTouchdowns RecievingYardsPerGame RushingYards RushingYardsPerGame SoloTackles AssistedTackles TotalTackles PositionCategory RecievingYards Active InjuredReserve NonFootballInjury Suspended\n",
      "0   -0.48    -0.57   0.58   1.37   -1.42      -1.16 -1.10             -0.07               -0.05                 -0.05        -0.05               -0.05       -0.57           -0.51        -0.57                0              0   True          False             False     False\n",
      "1   -0.59     0.49  -0.71   0.06    0.54      -0.49 -0.76             -0.07               -0.05                 -0.05        -0.05               -0.05        0.73            2.16         1.32                0              0   True          False             False     False\n",
      "2   -0.05     1.56  -0.28  -0.71    0.91       0.51 -0.09             -0.07               -0.05                 -0.05        -0.05               -0.05        2.21            0.42         1.60                0              0   True          False             False     False\n",
      "3   -1.67    -0.57   0.15   1.26    0.97       0.18  0.59             -0.07               -0.05                 -0.05        -0.05               -0.05       -1.00           -1.02        -1.05                0              0  False           True             False     False\n",
      "4   -0.59    -0.57  -0.28   2.28   -0.11      -0.49 -0.09             -0.07               -0.05                 -0.05        -0.05               -0.05       -0.57           -0.20        -0.45                0              0   True          False             False     False\n",
      "..    ...      ...    ...    ...     ...        ...   ...               ...                 ...                   ...          ...                 ...         ...             ...          ...              ...            ...    ...            ...               ...       ...\n",
      "457  0.59    -1.21  -0.28  -0.99    0.33      -0.49 -0.43             -0.07               -0.05                 -0.05        -0.05               -0.05       -0.20           -0.81        -0.45                0              0   True          False             False     False\n",
      "458  1.67     0.49   0.15   0.06    1.15       1.52  1.26             -0.07               -0.05                 -0.05        -0.05               -0.05        0.60            0.11         0.44                0              0   True          False             False     False\n",
      "459 -1.02    -0.79   1.01   0.77   -0.91       0.85  0.92             -0.07               -0.05                 -0.05        -0.05               -0.05        0.17            0.11         0.16                0              0   True          False             False     False\n",
      "460 -0.05    -0.79   0.58   0.88   -0.81      -0.49 -0.09             -0.07               -0.05                 -0.05        -0.05               -0.05       -1.00           -0.71        -0.93                0              0   True          False             False     False\n",
      "461  0.48    -1.21  -1.14  -0.75   -0.79      -1.16 -1.10             -0.07               -0.05                 -0.05        -0.05               -0.05       -0.82           -0.92        -0.89                0              0   True          False             False     False\n",
      "\n",
      "[462 rows x 21 columns]\n"
     ]
    }
   ],
   "source": [
    "# Step 5\n",
    "\n",
    "columns_to_scale = [\n",
    "    'Team', 'Position', 'Height', 'Weight', 'College', 'Experience', 'Age', \n",
    "    'AvgRecievingYards', 'ReceivingTouchdowns', 'RecievingYardsPerGame', \n",
    "    'RushingYards', 'RushingYardsPerGame', 'SoloTackles', 'AssistedTackles', \n",
    "    'TotalTackles'\n",
    "    ] \n",
    "    \n",
    "columns_no_scale = [col for col in X_train.columns if col not in columns_to_scale]\n",
    "\n",
    "preprocessor = ColumnTransformer(\n",
    "    transformers=[\n",
    "        ('scaler', StandardScaler(), columns_to_scale),\n",
    "        ('no_scaler', 'passthrough', columns_no_scale)\n",
    "    ]\n",
    ")\n",
    "\n",
    "X_train = preprocessor.fit_transform(X_train)\n",
    "X_test = preprocessor.transform(X_test)\n",
    "\n",
    "X_train = pd.DataFrame(X_train, columns=columns_to_scale + columns_no_scale)\n",
    "X_test = pd.DataFrame(X_test, columns=columns_to_scale + columns_no_scale)\n",
    "print(X_train)"
   ]
  },
  {
   "cell_type": "markdown",
   "metadata": {},
   "source": [
    "Step 10: Implement LinearRegression Model"
   ]
  },
  {
   "cell_type": "code",
   "execution_count": 2673,
   "metadata": {},
   "outputs": [
    {
     "name": "stdout",
     "output_type": "stream",
     "text": [
      "R Score: -0.19211703215710707\n",
      "MAE: 0.0\n",
      "MSE: 0.0\n",
      "RMSE: 0.0\n"
     ]
    }
   ],
   "source": [
    "lin_regr = LinearRegression()\n",
    " \n",
    "lin_regr.fit(X_train, y_train)\n",
    "\n",
    "y_pred = lin_regr.predict(X_test)\n",
    "\n",
    "r_score = lin_regr.score(X_test, y_test)\n",
    "mae = mean_absolute_error(y_true=y_test, y_pred=y_test)\n",
    "mse = mean_squared_error(y_true=y_test, y_pred=y_test)\n",
    "rmse = mean_squared_error(y_true=y_test, y_pred=y_test, squared=False)\n",
    " \n",
    "print('R Score:', r_score)\n",
    "print('MAE:', mae)\n",
    "print('MSE:', mse)\n",
    "print('RMSE:', rmse)"
   ]
  },
  {
   "cell_type": "markdown",
   "metadata": {},
   "source": [
    "From this initial score, it seems as though the model was unable to find any trends to make proper predictions.\n",
    "\n",
    "It appears that the other evaluation statistics are wrong/not implemented properly as 0 represents no error when there should be errors.\n",
    "\n",
    "From here there are two methods I would like to try; RandomOverSampling to account for the biased data and use the RandomForestRegresor model. \n",
    "\n",
    "RandomOverSampler: Use the sampling_strategy parameter to target the minority group of data."
   ]
  },
  {
   "cell_type": "markdown",
   "metadata": {},
   "source": [
    "Step 11: Use RandomOverSampler to improve the model"
   ]
  },
  {
   "cell_type": "code",
   "execution_count": 2674,
   "metadata": {},
   "outputs": [
    {
     "name": "stdout",
     "output_type": "stream",
     "text": [
      "(473, 21)\n"
     ]
    }
   ],
   "source": [
    "ros = RandomOverSampler(random_state=42, sampling_strategy='minority')\n",
    "\n",
    "X_train_ros, y_train_ros = ros.fit_resample(X_train, y_train)\n",
    "print(X_train_ros.shape)"
   ]
  },
  {
   "cell_type": "markdown",
   "metadata": {},
   "source": [
    "Apply the Linear Regression Model again to see any changes"
   ]
  },
  {
   "cell_type": "code",
   "execution_count": 2675,
   "metadata": {},
   "outputs": [
    {
     "name": "stdout",
     "output_type": "stream",
     "text": [
      "R Score: -0.1539899112810763\n",
      "MAE: 0.0\n",
      "MSE: 0.0\n",
      "RMSE: 0.0\n"
     ]
    }
   ],
   "source": [
    "lin_regr_ros = LinearRegression()\n",
    "lin_regr_ros.fit(X_train_ros, y_train_ros)\n",
    "\n",
    "y_pred = lin_regr_ros.predict(X_test)\n",
    "\n",
    "r_score = lin_regr_ros.score(X_test, y_test)\n",
    "mae = mean_absolute_error(y_true=y_test, y_pred=y_test)\n",
    "mse = mean_squared_error(y_true=y_test, y_pred=y_test)\n",
    "rmse = mean_squared_error(y_true=y_test, y_pred=y_test, squared=False)\n",
    " \n",
    " \n",
    "print('R Score:', r_score)\n",
    "print('MAE:', mae)\n",
    "print('MSE:', mse)\n",
    "print('RMSE:', rmse)"
   ]
  },
  {
   "cell_type": "markdown",
   "metadata": {},
   "source": [
    "It seems the model improved marginally (less than half a percent)."
   ]
  },
  {
   "cell_type": "markdown",
   "metadata": {},
   "source": [
    "Lets implement the random forest model\n",
    "\n",
    "For reference: https://www.geeksforgeeks.org/random-forest-regression-in-python/"
   ]
  },
  {
   "cell_type": "markdown",
   "metadata": {},
   "source": [
    "Step 12: Implement RandomForestRegressor Model"
   ]
  },
  {
   "cell_type": "code",
   "execution_count": 2676,
   "metadata": {},
   "outputs": [
    {
     "name": "stderr",
     "output_type": "stream",
     "text": [
      "c:\\Users\\louie\\AppData\\Local\\Programs\\Python\\Python311\\Lib\\site-packages\\sklearn\\ensemble\\_forest.py:578: UserWarning: Some inputs do not have OOB scores. This probably means too few trees were used to compute any reliable OOB estimates.\n",
      "  warn(\n"
     ]
    },
    {
     "data": {
      "text/html": [
       "<style>#sk-container-id-6 {color: black;}#sk-container-id-6 pre{padding: 0;}#sk-container-id-6 div.sk-toggleable {background-color: white;}#sk-container-id-6 label.sk-toggleable__label {cursor: pointer;display: block;width: 100%;margin-bottom: 0;padding: 0.3em;box-sizing: border-box;text-align: center;}#sk-container-id-6 label.sk-toggleable__label-arrow:before {content: \"▸\";float: left;margin-right: 0.25em;color: #696969;}#sk-container-id-6 label.sk-toggleable__label-arrow:hover:before {color: black;}#sk-container-id-6 div.sk-estimator:hover label.sk-toggleable__label-arrow:before {color: black;}#sk-container-id-6 div.sk-toggleable__content {max-height: 0;max-width: 0;overflow: hidden;text-align: left;background-color: #f0f8ff;}#sk-container-id-6 div.sk-toggleable__content pre {margin: 0.2em;color: black;border-radius: 0.25em;background-color: #f0f8ff;}#sk-container-id-6 input.sk-toggleable__control:checked~div.sk-toggleable__content {max-height: 200px;max-width: 100%;overflow: auto;}#sk-container-id-6 input.sk-toggleable__control:checked~label.sk-toggleable__label-arrow:before {content: \"▾\";}#sk-container-id-6 div.sk-estimator input.sk-toggleable__control:checked~label.sk-toggleable__label {background-color: #d4ebff;}#sk-container-id-6 div.sk-label input.sk-toggleable__control:checked~label.sk-toggleable__label {background-color: #d4ebff;}#sk-container-id-6 input.sk-hidden--visually {border: 0;clip: rect(1px 1px 1px 1px);clip: rect(1px, 1px, 1px, 1px);height: 1px;margin: -1px;overflow: hidden;padding: 0;position: absolute;width: 1px;}#sk-container-id-6 div.sk-estimator {font-family: monospace;background-color: #f0f8ff;border: 1px dotted black;border-radius: 0.25em;box-sizing: border-box;margin-bottom: 0.5em;}#sk-container-id-6 div.sk-estimator:hover {background-color: #d4ebff;}#sk-container-id-6 div.sk-parallel-item::after {content: \"\";width: 100%;border-bottom: 1px solid gray;flex-grow: 1;}#sk-container-id-6 div.sk-label:hover label.sk-toggleable__label {background-color: #d4ebff;}#sk-container-id-6 div.sk-serial::before {content: \"\";position: absolute;border-left: 1px solid gray;box-sizing: border-box;top: 0;bottom: 0;left: 50%;z-index: 0;}#sk-container-id-6 div.sk-serial {display: flex;flex-direction: column;align-items: center;background-color: white;padding-right: 0.2em;padding-left: 0.2em;position: relative;}#sk-container-id-6 div.sk-item {position: relative;z-index: 1;}#sk-container-id-6 div.sk-parallel {display: flex;align-items: stretch;justify-content: center;background-color: white;position: relative;}#sk-container-id-6 div.sk-item::before, #sk-container-id-6 div.sk-parallel-item::before {content: \"\";position: absolute;border-left: 1px solid gray;box-sizing: border-box;top: 0;bottom: 0;left: 50%;z-index: -1;}#sk-container-id-6 div.sk-parallel-item {display: flex;flex-direction: column;z-index: 1;position: relative;background-color: white;}#sk-container-id-6 div.sk-parallel-item:first-child::after {align-self: flex-end;width: 50%;}#sk-container-id-6 div.sk-parallel-item:last-child::after {align-self: flex-start;width: 50%;}#sk-container-id-6 div.sk-parallel-item:only-child::after {width: 0;}#sk-container-id-6 div.sk-dashed-wrapped {border: 1px dashed gray;margin: 0 0.4em 0.5em 0.4em;box-sizing: border-box;padding-bottom: 0.4em;background-color: white;}#sk-container-id-6 div.sk-label label {font-family: monospace;font-weight: bold;display: inline-block;line-height: 1.2em;}#sk-container-id-6 div.sk-label-container {text-align: center;}#sk-container-id-6 div.sk-container {/* jupyter's `normalize.less` sets `[hidden] { display: none; }` but bootstrap.min.css set `[hidden] { display: none !important; }` so we also need the `!important` here to be able to override the default hidden behavior on the sphinx rendered scikit-learn.org. See: https://github.com/scikit-learn/scikit-learn/issues/21755 */display: inline-block !important;position: relative;}#sk-container-id-6 div.sk-text-repr-fallback {display: none;}</style><div id=\"sk-container-id-6\" class=\"sk-top-container\"><div class=\"sk-text-repr-fallback\"><pre>RandomForestRegressor(n_estimators=10, oob_score=True, random_state=0)</pre><b>In a Jupyter environment, please rerun this cell to show the HTML representation or trust the notebook. <br />On GitHub, the HTML representation is unable to render, please try loading this page with nbviewer.org.</b></div><div class=\"sk-container\" hidden><div class=\"sk-item\"><div class=\"sk-estimator sk-toggleable\"><input class=\"sk-toggleable__control sk-hidden--visually\" id=\"sk-estimator-id-6\" type=\"checkbox\" checked><label for=\"sk-estimator-id-6\" class=\"sk-toggleable__label sk-toggleable__label-arrow\">RandomForestRegressor</label><div class=\"sk-toggleable__content\"><pre>RandomForestRegressor(n_estimators=10, oob_score=True, random_state=0)</pre></div></div></div></div></div>"
      ],
      "text/plain": [
       "RandomForestRegressor(n_estimators=10, oob_score=True, random_state=0)"
      ]
     },
     "execution_count": 2676,
     "metadata": {},
     "output_type": "execute_result"
    }
   ],
   "source": [
    "regressor = RandomForestRegressor(n_estimators=10, random_state=0, oob_score=True)\n",
    "regressor.fit(X_train_ros, y_train_ros)\n",
    "\n"
   ]
  },
  {
   "cell_type": "markdown",
   "metadata": {},
   "source": [
    "Evaluating the model"
   ]
  },
  {
   "cell_type": "code",
   "execution_count": 2677,
   "metadata": {},
   "outputs": [
    {
     "name": "stdout",
     "output_type": "stream",
     "text": [
      "308\n",
      "308\n"
     ]
    }
   ],
   "source": [
    "print(len(y_test))\n",
    "print(len(X_test))"
   ]
  },
  {
   "cell_type": "code",
   "execution_count": 2682,
   "metadata": {},
   "outputs": [
    {
     "name": "stdout",
     "output_type": "stream",
     "text": [
      "R-squared: 0.8991824321373347\n",
      "Out-of-Bag Score: 0.2884924962073877\n",
      "Mean Squared Error: 2987318619149.112\n"
     ]
    }
   ],
   "source": [
    " \n",
    "# Make predictions on the same data or new data\n",
    "predictions = regressor.predict(X_train_ros)\n",
    "\n",
    "# Evaluating the model\n",
    "oob_score = regressor.oob_score_\n",
    "mse = mean_squared_error(y_train_ros, predictions)\n",
    "r2 = r2_score(y_train_ros, predictions)\n",
    " \n",
    "print(f'R-squared: {r2}')\n",
    "print(f'Out-of-Bag Score: {oob_score}')\n",
    "print(f'Mean Squared Error: {mse}')"
   ]
  },
  {
   "cell_type": "markdown",
   "metadata": {},
   "source": [
    "From this evaluation, we can see that the R-Squared value is much higher and that the RandomForest was able to fit the data much better compared to the LinearRegression model.\n",
    "\n",
    "However, the out-of-bag score, a metric that tells us how well the model performed on unseen entries, did poorly and predict them accuratly only 28% of the time.\n",
    "\n",
    "Lastly, the mean squared error shows that the model is on average overestimating the salaries by a whopping $2.9 trillion.\n",
    "\n",
    "Reference: https://www.geeksforgeeks.org/metrics-for-machine-learning-model/"
   ]
  },
  {
   "cell_type": "code",
   "execution_count": null,
   "metadata": {},
   "outputs": [],
   "source": []
  }
 ],
 "metadata": {
  "kernelspec": {
   "display_name": "Python 3",
   "language": "python",
   "name": "python3"
  },
  "language_info": {
   "codemirror_mode": {
    "name": "ipython",
    "version": 3
   },
   "file_extension": ".py",
   "mimetype": "text/x-python",
   "name": "python",
   "nbconvert_exporter": "python",
   "pygments_lexer": "ipython3",
   "version": "3.11.5"
  }
 },
 "nbformat": 4,
 "nbformat_minor": 2
}
