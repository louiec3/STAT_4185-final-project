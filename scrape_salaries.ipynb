{
 "cells": [
  {
   "cell_type": "code",
   "execution_count": 110,
   "metadata": {},
   "outputs": [],
   "source": [
    "import requests\n",
    "from bs4 import BeautifulSoup as bs\n",
    "import pandas as pd"
   ]
  },
  {
   "cell_type": "code",
   "execution_count": 111,
   "metadata": {},
   "outputs": [
    {
     "name": "stdout",
     "output_type": "stream",
     "text": [
      "200\n"
     ]
    }
   ],
   "source": [
    "url = 'https://www.spotrac.com/nfl/salaries/breakdown/'\n",
    "response = requests.get(url)\n",
    "print(response.status_code) # 200\n"
   ]
  },
  {
   "cell_type": "code",
   "execution_count": 112,
   "metadata": {},
   "outputs": [
    {
     "name": "stdout",
     "output_type": "stream",
     "text": [
      "1086\n",
      "1086\n"
     ]
    }
   ],
   "source": [
    "soup = bs(response.content, 'html.parser')\n",
    "# html_selection = 'thead:nth-child(1) .tablesorter-header-inner , .small .tablesorter-header-inner , .info , td.small , #main a , .player .tablesorter-header-inner'\n",
    "# html_selection = '.small , .small .tablesorter-header-inner , .tablesorter-headerUnSorted:nth-child(7) .tablesorter-header-inner , .xs-hide+ .right .info , .xs-hide+ .tablesorter-headerUnSorted .tablesorter-header-inner , .result .info , #main a , .player .tablesorter-header-inner'\n",
    "# html_selection = '#main a , .player .tablesorter-header-inner'\n",
    "# html_selection = '.result .info , .tablesorter-headerUnSorted:nth-child(11) .tablesorter-header-inner , #main a , .player .tablesorter-header-inner'\n",
    "players_html = soup.select(selector='td.player a')\n",
    "salaries_html = soup.select(selector='table tr .xs-hide+ td.right span.cap.info')\n",
    "print(len(players_html))\n",
    "print(len(salaries_html))"
   ]
  },
  {
   "cell_type": "code",
   "execution_count": 113,
   "metadata": {},
   "outputs": [
    {
     "name": "stdout",
     "output_type": "stream",
     "text": [
      "['T.J. Watt', 'Chris Jones', 'Aaron Donald', 'Cameron Heyward', 'C.J. Mosley', 'Jonathan Allen', 'Danielle Hunter', 'Grady Jarrett', \"Adoree' Jackson\", 'Justin Simmons']\n",
      "['$28,002,750', '$19,500,000', '$31,666,667', '$16,400,000', '$17,000,000', '$18,000,000', '$17,000,000', '$16,823,333', '$13,000,000', '$15,250,000']\n"
     ]
    }
   ],
   "source": [
    "players = [player.string for player in players_html]\n",
    "salaries = [salary.string for salary in salaries_html]\n",
    "print(players[:10])\n",
    "print(salaries[:10])"
   ]
  },
  {
   "cell_type": "code",
   "execution_count": 114,
   "metadata": {},
   "outputs": [
    {
     "data": {
      "text/html": [
       "<div>\n",
       "<style scoped>\n",
       "    .dataframe tbody tr th:only-of-type {\n",
       "        vertical-align: middle;\n",
       "    }\n",
       "\n",
       "    .dataframe tbody tr th {\n",
       "        vertical-align: top;\n",
       "    }\n",
       "\n",
       "    .dataframe thead th {\n",
       "        text-align: right;\n",
       "    }\n",
       "</style>\n",
       "<table border=\"1\" class=\"dataframe\">\n",
       "  <thead>\n",
       "    <tr style=\"text-align: right;\">\n",
       "      <th></th>\n",
       "      <th>Name</th>\n",
       "      <th>Salary</th>\n",
       "    </tr>\n",
       "  </thead>\n",
       "  <tbody>\n",
       "    <tr>\n",
       "      <th>0</th>\n",
       "      <td>T.J. Watt</td>\n",
       "      <td>$28,002,750</td>\n",
       "    </tr>\n",
       "    <tr>\n",
       "      <th>1</th>\n",
       "      <td>Chris Jones</td>\n",
       "      <td>$19,500,000</td>\n",
       "    </tr>\n",
       "    <tr>\n",
       "      <th>2</th>\n",
       "      <td>Aaron Donald</td>\n",
       "      <td>$31,666,667</td>\n",
       "    </tr>\n",
       "    <tr>\n",
       "      <th>3</th>\n",
       "      <td>Cameron Heyward</td>\n",
       "      <td>$16,400,000</td>\n",
       "    </tr>\n",
       "    <tr>\n",
       "      <th>4</th>\n",
       "      <td>C.J. Mosley</td>\n",
       "      <td>$17,000,000</td>\n",
       "    </tr>\n",
       "    <tr>\n",
       "      <th>...</th>\n",
       "      <td>...</td>\n",
       "      <td>...</td>\n",
       "    </tr>\n",
       "    <tr>\n",
       "      <th>1081</th>\n",
       "      <td>Justin Jackson</td>\n",
       "      <td>$1,080,000</td>\n",
       "    </tr>\n",
       "    <tr>\n",
       "      <th>1082</th>\n",
       "      <td>Ben Ellefson</td>\n",
       "      <td>$1,010,000</td>\n",
       "    </tr>\n",
       "    <tr>\n",
       "      <th>1083</th>\n",
       "      <td>Sammis Reyes</td>\n",
       "      <td>$940,000</td>\n",
       "    </tr>\n",
       "    <tr>\n",
       "      <th>1084</th>\n",
       "      <td>Trayvon Mullen</td>\n",
       "      <td>$1,080,000</td>\n",
       "    </tr>\n",
       "    <tr>\n",
       "      <th>1085</th>\n",
       "      <td>Isaiah Rodgers</td>\n",
       "      <td>None</td>\n",
       "    </tr>\n",
       "  </tbody>\n",
       "</table>\n",
       "<p>1086 rows × 2 columns</p>\n",
       "</div>"
      ],
      "text/plain": [
       "                 Name       Salary\n",
       "0           T.J. Watt  $28,002,750\n",
       "1         Chris Jones  $19,500,000\n",
       "2        Aaron Donald  $31,666,667\n",
       "3     Cameron Heyward  $16,400,000\n",
       "4         C.J. Mosley  $17,000,000\n",
       "...               ...          ...\n",
       "1081   Justin Jackson   $1,080,000\n",
       "1082     Ben Ellefson   $1,010,000\n",
       "1083     Sammis Reyes     $940,000\n",
       "1084   Trayvon Mullen   $1,080,000\n",
       "1085   Isaiah Rodgers         None\n",
       "\n",
       "[1086 rows x 2 columns]"
      ]
     },
     "execution_count": 114,
     "metadata": {},
     "output_type": "execute_result"
    }
   ],
   "source": [
    "df = pd.DataFrame({'Name': players, 'Salary': salaries})\n",
    "df"
   ]
  },
  {
   "cell_type": "code",
   "execution_count": null,
   "metadata": {},
   "outputs": [],
   "source": []
  }
 ],
 "metadata": {
  "kernelspec": {
   "display_name": "Python 3",
   "language": "python",
   "name": "python3"
  },
  "language_info": {
   "codemirror_mode": {
    "name": "ipython",
    "version": 3
   },
   "file_extension": ".py",
   "mimetype": "text/x-python",
   "name": "python",
   "nbconvert_exporter": "python",
   "pygments_lexer": "ipython3",
   "version": "3.11.5"
  }
 },
 "nbformat": 4,
 "nbformat_minor": 2
}
